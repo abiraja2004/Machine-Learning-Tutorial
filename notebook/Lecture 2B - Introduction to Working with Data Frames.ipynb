{
 "cells": [
  {
   "cell_type": "markdown",
   "metadata": {},
   "source": [
    "# Table of Contents\n",
    "* [Lecture 2B - Introduction to Working with Data Frames](#Lecture-2B---Introduction-to-Working-with-Data-Frames)\n",
    "\t* &nbsp;\n",
    "\t\t* [Content](#Content)\n",
    "\t\t* [Learning Outcomes](#Learning-Outcomes)\n",
    "* [DataFrame](#DataFrame)\n",
    "\t* [Creating a Data Frame](#Creating-a-Data-Frame)\n",
    "\t\t* [Accessing data in a Data Frame](#Accessing-data-in-a-Data-Frame)\n",
    "\t\t\t* [By Column](#By-Column)\n",
    "\t\t\t* [By Row](#By-Row)\n",
    "\t\t\t* [By Row and Column](#By-Row-and-Column)\n",
    "\t\t* [Filtering Data](#Filtering-Data)\n",
    "\t* [Modifying Data Frames](#Modifying-Data-Frames)\n",
    "\t\t* [Adding New Columns](#Adding-New-Columns)\n",
    "\t* [Changing values](#Changing-values)\n",
    "\t\t* [Deleting rows (records) based on conditions](#Deleting-rows-%28records%29-based-on-conditions)\n",
    "\t\t* [Adding new rows/records](#Adding-new-rows/records)\n",
    "* [Data Cleaning - Practical Example](#Data-Cleaning---Practical-Example)\n",
    "\t* &nbsp;\n",
    "\t\t* [Exercise:](#Exercise:)\n"
   ]
  },
  {
   "cell_type": "markdown",
   "metadata": {},
   "source": [
    "# Lecture 2B - Introduction to Working with Data Frames"
   ]
  },
  {
   "cell_type": "markdown",
   "metadata": {},
   "source": [
    "---"
   ]
  },
  {
   "cell_type": "markdown",
   "metadata": {},
   "source": [
    "### Content"
   ]
  },
  {
   "cell_type": "markdown",
   "metadata": {},
   "source": [
    "1. What is a Data Frame\n",
    "2. Creating, Accessing, Filtering data in a Data Frame\n",
    "3. Modifying values in a Data Frames\n",
    "4. Deleting entries in a Data Frame\n",
    "5. Practical Example of Data Cleaning (Data Wrangling)"
   ]
  },
  {
   "cell_type": "markdown",
   "metadata": {},
   "source": [
    "### Learning Outcomes"
   ]
  },
  {
   "cell_type": "markdown",
   "metadata": {},
   "source": [
    "At the end of this lecture, you should be able to:\n",
    "\n",
    "* describe the reasons for using the Data Frame data type  \n",
    "* create a data frame object from lists and dictionaries \n",
    "* access data based on location\n",
    "* filter data based on conditions\n",
    "* modify data frames by creating/deleting/change types of columns\n",
    "* modify data frames by changing values of individual data points\n",
    "* delete records from data frames based on a condition"
   ]
  },
  {
   "cell_type": "code",
   "execution_count": 1,
   "metadata": {
    "collapsed": false
   },
   "outputs": [
    {
     "data": {
      "text/html": [
       "<iframe src=http://en.wikipedia.org/wiki/Pandas_%28software%29 width=800 height=350></iframe>"
      ],
      "text/plain": [
       "<IPython.core.display.HTML object>"
      ]
     },
     "execution_count": 1,
     "metadata": {},
     "output_type": "execute_result"
    }
   ],
   "source": [
    "from IPython.core.display import HTML\n",
    "HTML(\"<iframe src=http://en.wikipedia.org/wiki/Pandas_%28software%29 width=800 height=350></iframe>\")"
   ]
  },
  {
   "cell_type": "code",
   "execution_count": 2,
   "metadata": {
    "collapsed": false
   },
   "outputs": [],
   "source": [
    "import pandas as pd\n",
    "import numpy as np\n",
    "import matplotlib.pyplot as plt"
   ]
  },
  {
   "cell_type": "code",
   "execution_count": 3,
   "metadata": {
    "collapsed": false
   },
   "outputs": [],
   "source": [
    "#import some extra plotting libraries that pretty-fy the plots \n",
    "import seaborn as sns\n",
    "from pylab import rcParams\n",
    "\n",
    "rcParams['figure.dpi'] = 350\n",
    "rcParams['lines.linewidth'] = 2\n",
    "rcParams['axes.facecolor'] = 'white'\n",
    "rcParams['patch.edgecolor'] = 'white'\n",
    "rcParams['font.family'] = 'StixGeneral'"
   ]
  },
  {
   "cell_type": "code",
   "execution_count": 4,
   "metadata": {
    "collapsed": false
   },
   "outputs": [],
   "source": [
    "# Set some Pandas options as you like\n",
    "pd.set_option('html', True)\n",
    "pd.set_option('max_columns', 40)\n",
    "pd.set_option('max_rows', 20)"
   ]
  },
  {
   "cell_type": "code",
   "execution_count": 5,
   "metadata": {
    "collapsed": false
   },
   "outputs": [],
   "source": [
    "#this line enables the plots to be embedded into the notebook\n",
    "%matplotlib inline"
   ]
  },
  {
   "cell_type": "markdown",
   "metadata": {},
   "source": [
    "# DataFrame"
   ]
  },
  {
   "cell_type": "markdown",
   "metadata": {},
   "source": [
    "Inevitably, we want to be able to store, view and manipulate data that is **multivariate**, where for every index there are multiple fields or columns of data, often of **varying data type**.\n",
    "\n",
    "A `DataFrame` is a **tabular data structure**, encapsulating multiple series like columns in a spreadsheet. Data are stored internally as a 2-dimensional object, but the `DataFrame` allows us to represent and manipulate higher-dimensional data.\n",
    "\n",
    "With the creation of pandas and in particular the `DataFrame` data structure, Python has gained the same power as the statistical software **R** and combined with the Numpy package, Python can now also do all that **MATLAB** can do, with the added advantage that Python is a general purpose language that can be used for any type of programming, while MATLAB and R are domain specific languages only."
   ]
  },
  {
   "cell_type": "markdown",
   "metadata": {},
   "source": [
    "Before creating our first Data Frame object to represent a tabular data set, let us first clarify what the characteristics of a tabular dataset might look like. \n",
    "\n",
    "Each row will represent a single data point. There are going to be multiple columns in the dataset. Each column will hold an additional piece of information that describes some characteristic of a particular data point. Different disciplines have different names for the column component and this can unfortunately get confusing. The most common of these are: features, (independent) variables or attributes. Computer scientists prefer the term *features*, so this is what will mostly use here.\n",
    "\n",
    "In the example below, there is an expanded version of the population dataset seen in the previous illustrations, that includes a feature called 'YEAR'. "
   ]
  },
  {
   "cell_type": "raw",
   "metadata": {},
   "source": [
    " \tNATION \t        POPULATION \tYEAR\n",
    " \tNew Zealand \t3778000 \t2000\n",
    " \tAustralia \t    19138000 \t2000\n",
    " \tCook Islands \t20000 \t    2000\n",
    " \tSolomon Islands 447000 \t    2000\n",
    " \tNew Zealand \t4433000 \t2014\n",
    " \tAustralia \t    22680000 \t2014\n",
    "    Cook Islands \t10900 \t    2014\n",
    " \tSolomon Islands 549598 \t    2014"
   ]
  },
  {
   "cell_type": "markdown",
   "metadata": {},
   "source": [
    "**Discussion exercise**: Given Python's data structures seen in previous examples, consider how they can be used to store the above data? Discuss your options with a colleague working with you."
   ]
  },
  {
   "cell_type": "raw",
   "metadata": {},
   "source": [
    " "
   ]
  },
  {
   "cell_type": "raw",
   "metadata": {},
   "source": [
    " "
   ]
  },
  {
   "cell_type": "raw",
   "metadata": {},
   "source": [
    " "
   ]
  },
  {
   "cell_type": "markdown",
   "metadata": {},
   "source": [
    "An intuitive approach would be to store each of the column values in a data structure such as a list and give it a suitable name. "
   ]
  },
  {
   "cell_type": "code",
   "execution_count": 6,
   "metadata": {
    "collapsed": false
   },
   "outputs": [],
   "source": [
    "nation = ['New Zealand', 'Australia', 'Cook Islands', 'Solomon Islands', 'New Zealand', 'Australia', 'Cook Islands', 'Solomon Islands']"
   ]
  },
  {
   "cell_type": "markdown",
   "metadata": {},
   "source": [
    "**Exercise**: Assign the values below to appropriately named variables for the next two features.\n"
   ]
  },
  {
   "cell_type": "code",
   "execution_count": 7,
   "metadata": {
    "collapsed": false
   },
   "outputs": [],
   "source": [
    "#population\n",
    "population = [3778000, 19138000, 20000, 447000, 4433000, 22680000, 10900, 549598]"
   ]
  },
  {
   "cell_type": "code",
   "execution_count": 8,
   "metadata": {
    "collapsed": false
   },
   "outputs": [],
   "source": [
    "#year\n",
    "year = [2000, 2000, 2000, 2000, 2014, 2014, 2014, 2014]"
   ]
  },
  {
   "cell_type": "markdown",
   "metadata": {},
   "source": [
    "We now have three lists. One list for each of the feature values.\n",
    "\n",
    "What we now need to do is to combine the three lists into a single data structure that will store all the values.\n",
    "\n",
    "That data structure is a dictionary."
   ]
  },
  {
   "cell_type": "markdown",
   "metadata": {},
   "source": [
    "**Exercise**: Create a dictionary called *national_populations* from the above lists, where each of the keys, corresponds to the name of the features, and is associated with the appropriate list."
   ]
  },
  {
   "cell_type": "code",
   "execution_count": 9,
   "metadata": {
    "collapsed": false
   },
   "outputs": [
    {
     "data": {
      "text/plain": [
       "{'nation': ['New Zealand',\n",
       "  'Australia',\n",
       "  'Cook Islands',\n",
       "  'Solomon Islands',\n",
       "  'New Zealand',\n",
       "  'Australia',\n",
       "  'Cook Islands',\n",
       "  'Solomon Islands'],\n",
       " 'population': [3778000,\n",
       "  19138000,\n",
       "  20000,\n",
       "  447000,\n",
       "  4433000,\n",
       "  22680000,\n",
       "  10900,\n",
       "  549598],\n",
       " 'year': [2000, 2000, 2000, 2000, 2014, 2014, 2014, 2014]}"
      ]
     },
     "execution_count": 9,
     "metadata": {},
     "output_type": "execute_result"
    }
   ],
   "source": [
    "national_populations = {'nation': nation,\n",
    "                       'population': population,\n",
    "                       'year': year}\n",
    "national_populations"
   ]
  },
  {
   "cell_type": "markdown",
   "metadata": {},
   "source": [
    "With all the data stored inside the dictionary object, we can now proceed to create the Data Frame object, which offers us much more functionality, efficiency and expressive power."
   ]
  },
  {
   "cell_type": "markdown",
   "metadata": {},
   "source": [
    "## Creating a Data Frame"
   ]
  },
  {
   "cell_type": "markdown",
   "metadata": {},
   "source": [
    "The DataFrame can be created by placing a dictionary object into the DataFrame constructor, which is denoted by the parentheses."
   ]
  },
  {
   "cell_type": "code",
   "execution_count": 10,
   "metadata": {
    "collapsed": false
   },
   "outputs": [
    {
     "data": {
      "text/html": [
       "<div>\n",
       "<table border=\"1\" class=\"dataframe\">\n",
       "  <thead>\n",
       "    <tr style=\"text-align: right;\">\n",
       "      <th></th>\n",
       "      <th>nation</th>\n",
       "      <th>population</th>\n",
       "      <th>year</th>\n",
       "    </tr>\n",
       "  </thead>\n",
       "  <tbody>\n",
       "    <tr>\n",
       "      <th>0</th>\n",
       "      <td>New Zealand</td>\n",
       "      <td>3778000</td>\n",
       "      <td>2000</td>\n",
       "    </tr>\n",
       "    <tr>\n",
       "      <th>1</th>\n",
       "      <td>Australia</td>\n",
       "      <td>19138000</td>\n",
       "      <td>2000</td>\n",
       "    </tr>\n",
       "    <tr>\n",
       "      <th>2</th>\n",
       "      <td>Cook Islands</td>\n",
       "      <td>20000</td>\n",
       "      <td>2000</td>\n",
       "    </tr>\n",
       "    <tr>\n",
       "      <th>3</th>\n",
       "      <td>Solomon Islands</td>\n",
       "      <td>447000</td>\n",
       "      <td>2000</td>\n",
       "    </tr>\n",
       "    <tr>\n",
       "      <th>4</th>\n",
       "      <td>New Zealand</td>\n",
       "      <td>4433000</td>\n",
       "      <td>2014</td>\n",
       "    </tr>\n",
       "    <tr>\n",
       "      <th>5</th>\n",
       "      <td>Australia</td>\n",
       "      <td>22680000</td>\n",
       "      <td>2014</td>\n",
       "    </tr>\n",
       "    <tr>\n",
       "      <th>6</th>\n",
       "      <td>Cook Islands</td>\n",
       "      <td>10900</td>\n",
       "      <td>2014</td>\n",
       "    </tr>\n",
       "    <tr>\n",
       "      <th>7</th>\n",
       "      <td>Solomon Islands</td>\n",
       "      <td>549598</td>\n",
       "      <td>2014</td>\n",
       "    </tr>\n",
       "  </tbody>\n",
       "</table>\n",
       "</div>"
      ],
      "text/plain": [
       "            nation  population  year\n",
       "0      New Zealand     3778000  2000\n",
       "1        Australia    19138000  2000\n",
       "2     Cook Islands       20000  2000\n",
       "3  Solomon Islands      447000  2000\n",
       "4      New Zealand     4433000  2014\n",
       "5        Australia    22680000  2014\n",
       "6     Cook Islands       10900  2014\n",
       "7  Solomon Islands      549598  2014"
      ]
     },
     "execution_count": 10,
     "metadata": {},
     "output_type": "execute_result"
    }
   ],
   "source": [
    "data = pd.DataFrame(national_populations)\n",
    "data"
   ]
  },
  {
   "cell_type": "markdown",
   "metadata": {},
   "source": [
    "Data in a `DataFrame` can also be plotted in a similar fashion as with a `Series` object. The index becomes the x-axis. The y-axis is can be selected using the '.' operator:"
   ]
  },
  {
   "cell_type": "code",
   "execution_count": 11,
   "metadata": {
    "collapsed": false
   },
   "outputs": [
    {
     "data": {
      "text/plain": [
       "(array([0, 1, 2, 3, 4, 5, 6, 7]), <a list of 8 Text xticklabel objects>)"
      ]
     },
     "execution_count": 11,
     "metadata": {},
     "output_type": "execute_result"
    },
    {
     "data": {
      "image/png": "[encoded data removed]",
      "text/plain": [
       "<matplotlib.figure.Figure at 0x1c2eee10>"
      ]
     },
     "metadata": {},
     "output_type": "display_data"
    }
   ],
   "source": [
    "data.population.plot(kind='bar')\n",
    "plt.xticks(rotation=0)"
   ]
  },
  {
   "cell_type": "markdown",
   "metadata": {},
   "source": [
    "Notice the `DataFrame` is sorted by column name. We can change the order by indexing them in the order we desire by passing in a list of column names:"
   ]
  },
  {
   "cell_type": "code",
   "execution_count": 12,
   "metadata": {
    "collapsed": false
   },
   "outputs": [
    {
     "data": {
      "text/html": [
       "<div>\n",
       "<table border=\"1\" class=\"dataframe\">\n",
       "  <thead>\n",
       "    <tr style=\"text-align: right;\">\n",
       "      <th></th>\n",
       "      <th>nation</th>\n",
       "      <th>population</th>\n",
       "      <th>year</th>\n",
       "    </tr>\n",
       "  </thead>\n",
       "  <tbody>\n",
       "    <tr>\n",
       "      <th>0</th>\n",
       "      <td>New Zealand</td>\n",
       "      <td>3778000</td>\n",
       "      <td>2000</td>\n",
       "    </tr>\n",
       "    <tr>\n",
       "      <th>1</th>\n",
       "      <td>Australia</td>\n",
       "      <td>19138000</td>\n",
       "      <td>2000</td>\n",
       "    </tr>\n",
       "    <tr>\n",
       "      <th>2</th>\n",
       "      <td>Cook Islands</td>\n",
       "      <td>20000</td>\n",
       "      <td>2000</td>\n",
       "    </tr>\n",
       "    <tr>\n",
       "      <th>3</th>\n",
       "      <td>Solomon Islands</td>\n",
       "      <td>447000</td>\n",
       "      <td>2000</td>\n",
       "    </tr>\n",
       "    <tr>\n",
       "      <th>4</th>\n",
       "      <td>New Zealand</td>\n",
       "      <td>4433000</td>\n",
       "      <td>2014</td>\n",
       "    </tr>\n",
       "    <tr>\n",
       "      <th>5</th>\n",
       "      <td>Australia</td>\n",
       "      <td>22680000</td>\n",
       "      <td>2014</td>\n",
       "    </tr>\n",
       "    <tr>\n",
       "      <th>6</th>\n",
       "      <td>Cook Islands</td>\n",
       "      <td>10900</td>\n",
       "      <td>2014</td>\n",
       "    </tr>\n",
       "    <tr>\n",
       "      <th>7</th>\n",
       "      <td>Solomon Islands</td>\n",
       "      <td>549598</td>\n",
       "      <td>2014</td>\n",
       "    </tr>\n",
       "  </tbody>\n",
       "</table>\n",
       "</div>"
      ],
      "text/plain": [
       "            nation  population  year\n",
       "0      New Zealand     3778000  2000\n",
       "1        Australia    19138000  2000\n",
       "2     Cook Islands       20000  2000\n",
       "3  Solomon Islands      447000  2000\n",
       "4      New Zealand     4433000  2014\n",
       "5        Australia    22680000  2014\n",
       "6     Cook Islands       10900  2014\n",
       "7  Solomon Islands      549598  2014"
      ]
     },
     "execution_count": 12,
     "metadata": {},
     "output_type": "execute_result"
    }
   ],
   "source": [
    "data"
   ]
  },
  {
   "cell_type": "code",
   "execution_count": 13,
   "metadata": {
    "collapsed": false
   },
   "outputs": [
    {
     "data": {
      "text/html": [
       "<div>\n",
       "<table border=\"1\" class=\"dataframe\">\n",
       "  <thead>\n",
       "    <tr style=\"text-align: right;\">\n",
       "      <th></th>\n",
       "      <th>nation</th>\n",
       "      <th>year</th>\n",
       "      <th>population</th>\n",
       "    </tr>\n",
       "  </thead>\n",
       "  <tbody>\n",
       "    <tr>\n",
       "      <th>0</th>\n",
       "      <td>New Zealand</td>\n",
       "      <td>2000</td>\n",
       "      <td>3778000</td>\n",
       "    </tr>\n",
       "    <tr>\n",
       "      <th>1</th>\n",
       "      <td>Australia</td>\n",
       "      <td>2000</td>\n",
       "      <td>19138000</td>\n",
       "    </tr>\n",
       "    <tr>\n",
       "      <th>2</th>\n",
       "      <td>Cook Islands</td>\n",
       "      <td>2000</td>\n",
       "      <td>20000</td>\n",
       "    </tr>\n",
       "    <tr>\n",
       "      <th>3</th>\n",
       "      <td>Solomon Islands</td>\n",
       "      <td>2000</td>\n",
       "      <td>447000</td>\n",
       "    </tr>\n",
       "    <tr>\n",
       "      <th>4</th>\n",
       "      <td>New Zealand</td>\n",
       "      <td>2014</td>\n",
       "      <td>4433000</td>\n",
       "    </tr>\n",
       "    <tr>\n",
       "      <th>5</th>\n",
       "      <td>Australia</td>\n",
       "      <td>2014</td>\n",
       "      <td>22680000</td>\n",
       "    </tr>\n",
       "    <tr>\n",
       "      <th>6</th>\n",
       "      <td>Cook Islands</td>\n",
       "      <td>2014</td>\n",
       "      <td>10900</td>\n",
       "    </tr>\n",
       "    <tr>\n",
       "      <th>7</th>\n",
       "      <td>Solomon Islands</td>\n",
       "      <td>2014</td>\n",
       "      <td>549598</td>\n",
       "    </tr>\n",
       "  </tbody>\n",
       "</table>\n",
       "</div>"
      ],
      "text/plain": [
       "            nation  year  population\n",
       "0      New Zealand  2000     3778000\n",
       "1        Australia  2000    19138000\n",
       "2     Cook Islands  2000       20000\n",
       "3  Solomon Islands  2000      447000\n",
       "4      New Zealand  2014     4433000\n",
       "5        Australia  2014    22680000\n",
       "6     Cook Islands  2014       10900\n",
       "7  Solomon Islands  2014      549598"
      ]
     },
     "execution_count": 13,
     "metadata": {},
     "output_type": "execute_result"
    }
   ],
   "source": [
    "data[['nation','year','population']]"
   ]
  },
  {
   "cell_type": "markdown",
   "metadata": {},
   "source": [
    "A `DataFrame` has a second index, representing the columns:"
   ]
  },
  {
   "cell_type": "code",
   "execution_count": 14,
   "metadata": {
    "collapsed": false
   },
   "outputs": [
    {
     "data": {
      "text/plain": [
       "Index([u'nation', u'population', u'year'], dtype='object')"
      ]
     },
     "execution_count": 14,
     "metadata": {},
     "output_type": "execute_result"
    }
   ],
   "source": [
    "data.columns"
   ]
  },
  {
   "cell_type": "code",
   "execution_count": 15,
   "metadata": {
    "collapsed": false
   },
   "outputs": [
    {
     "data": {
      "text/plain": [
       "Int64Index([0, 1, 2, 3, 4, 5, 6, 7], dtype='int64')"
      ]
     },
     "execution_count": 15,
     "metadata": {},
     "output_type": "execute_result"
    }
   ],
   "source": [
    "data.index"
   ]
  },
  {
   "cell_type": "markdown",
   "metadata": {},
   "source": [
    "### Accessing data in a Data Frame"
   ]
  },
  {
   "cell_type": "markdown",
   "metadata": {},
   "source": [
    "#### By Column"
   ]
  },
  {
   "cell_type": "markdown",
   "metadata": {},
   "source": [
    "If we wish to access columns, we can do so either by dictionary-like indexing or by feature name:"
   ]
  },
  {
   "cell_type": "code",
   "execution_count": 16,
   "metadata": {
    "collapsed": false
   },
   "outputs": [
    {
     "data": {
      "text/plain": [
       "0     3778000\n",
       "1    19138000\n",
       "2       20000\n",
       "3      447000\n",
       "4     4433000\n",
       "5    22680000\n",
       "6       10900\n",
       "7      549598\n",
       "Name: population, dtype: int64"
      ]
     },
     "execution_count": 16,
     "metadata": {},
     "output_type": "execute_result"
    }
   ],
   "source": [
    "data['population']"
   ]
  },
  {
   "cell_type": "code",
   "execution_count": 17,
   "metadata": {
    "collapsed": false
   },
   "outputs": [
    {
     "data": {
      "text/plain": [
       "0     3778000\n",
       "1    19138000\n",
       "2       20000\n",
       "3      447000\n",
       "4     4433000\n",
       "5    22680000\n",
       "6       10900\n",
       "7      549598\n",
       "Name: population, dtype: int64"
      ]
     },
     "execution_count": 17,
     "metadata": {},
     "output_type": "execute_result"
    }
   ],
   "source": [
    "data.population"
   ]
  },
  {
   "cell_type": "markdown",
   "metadata": {},
   "source": [
    "**Exercise**: check what type is returned when you call data.population and access it as a feature"
   ]
  },
  {
   "cell_type": "code",
   "execution_count": 18,
   "metadata": {
    "collapsed": false
   },
   "outputs": [
    {
     "data": {
      "text/plain": [
       "pandas.core.series.Series"
      ]
     },
     "execution_count": 18,
     "metadata": {},
     "output_type": "execute_result"
    }
   ],
   "source": [
    "type(data.population)"
   ]
  },
  {
   "cell_type": "markdown",
   "metadata": {},
   "source": [
    "**Exercise**: check what type is returned when you access [['population']] by passing it as a list to data:"
   ]
  },
  {
   "cell_type": "code",
   "execution_count": 19,
   "metadata": {
    "collapsed": false
   },
   "outputs": [
    {
     "data": {
      "text/plain": [
       "pandas.core.series.Series"
      ]
     },
     "execution_count": 19,
     "metadata": {},
     "output_type": "execute_result"
    }
   ],
   "source": [
    "type(data[ 'population' ])"
   ]
  },
  {
   "cell_type": "markdown",
   "metadata": {},
   "source": [
    "#### By Row"
   ]
  },
  {
   "cell_type": "markdown",
   "metadata": {},
   "source": [
    "Notice this is different than with `Series`, where dict-like indexing retrieved a particular element (row). If we want access to a row in a `DataFrame`, we index its `ix` attribute."
   ]
  },
  {
   "cell_type": "code",
   "execution_count": 20,
   "metadata": {
    "collapsed": false
   },
   "outputs": [
    {
     "data": {
      "text/plain": [
       "nation        Solomon Islands\n",
       "population             447000\n",
       "year                     2000\n",
       "Name: 3, dtype: object"
      ]
     },
     "execution_count": 20,
     "metadata": {},
     "output_type": "execute_result"
    }
   ],
   "source": [
    "data.ix[3]"
   ]
  },
  {
   "cell_type": "code",
   "execution_count": 21,
   "metadata": {
    "collapsed": false,
    "scrolled": true
   },
   "outputs": [
    {
     "data": {
      "text/html": [
       "<div>\n",
       "<table border=\"1\" class=\"dataframe\">\n",
       "  <thead>\n",
       "    <tr style=\"text-align: right;\">\n",
       "      <th></th>\n",
       "      <th>nation</th>\n",
       "      <th>population</th>\n",
       "      <th>year</th>\n",
       "    </tr>\n",
       "  </thead>\n",
       "  <tbody>\n",
       "    <tr>\n",
       "      <th>0</th>\n",
       "      <td>New Zealand</td>\n",
       "      <td>3778000</td>\n",
       "      <td>2000</td>\n",
       "    </tr>\n",
       "    <tr>\n",
       "      <th>1</th>\n",
       "      <td>Australia</td>\n",
       "      <td>19138000</td>\n",
       "      <td>2000</td>\n",
       "    </tr>\n",
       "    <tr>\n",
       "      <th>2</th>\n",
       "      <td>Cook Islands</td>\n",
       "      <td>20000</td>\n",
       "      <td>2000</td>\n",
       "    </tr>\n",
       "    <tr>\n",
       "      <th>3</th>\n",
       "      <td>Solomon Islands</td>\n",
       "      <td>447000</td>\n",
       "      <td>2000</td>\n",
       "    </tr>\n",
       "    <tr>\n",
       "      <th>4</th>\n",
       "      <td>New Zealand</td>\n",
       "      <td>4433000</td>\n",
       "      <td>2014</td>\n",
       "    </tr>\n",
       "    <tr>\n",
       "      <th>5</th>\n",
       "      <td>Australia</td>\n",
       "      <td>22680000</td>\n",
       "      <td>2014</td>\n",
       "    </tr>\n",
       "    <tr>\n",
       "      <th>6</th>\n",
       "      <td>Cook Islands</td>\n",
       "      <td>10900</td>\n",
       "      <td>2014</td>\n",
       "    </tr>\n",
       "    <tr>\n",
       "      <th>7</th>\n",
       "      <td>Solomon Islands</td>\n",
       "      <td>549598</td>\n",
       "      <td>2014</td>\n",
       "    </tr>\n",
       "  </tbody>\n",
       "</table>\n",
       "</div>"
      ],
      "text/plain": [
       "            nation  population  year\n",
       "0      New Zealand     3778000  2000\n",
       "1        Australia    19138000  2000\n",
       "2     Cook Islands       20000  2000\n",
       "3  Solomon Islands      447000  2000\n",
       "4      New Zealand     4433000  2014\n",
       "5        Australia    22680000  2014\n",
       "6     Cook Islands       10900  2014\n",
       "7  Solomon Islands      549598  2014"
      ]
     },
     "execution_count": 21,
     "metadata": {},
     "output_type": "execute_result"
    }
   ],
   "source": [
    "data"
   ]
  },
  {
   "cell_type": "markdown",
   "metadata": {},
   "source": [
    "We can do more sophisticated selection of data using slicing:"
   ]
  },
  {
   "cell_type": "code",
   "execution_count": 22,
   "metadata": {
    "collapsed": false
   },
   "outputs": [
    {
     "data": {
      "text/html": [
       "<div>\n",
       "<table border=\"1\" class=\"dataframe\">\n",
       "  <thead>\n",
       "    <tr style=\"text-align: right;\">\n",
       "      <th></th>\n",
       "      <th>nation</th>\n",
       "      <th>population</th>\n",
       "      <th>year</th>\n",
       "    </tr>\n",
       "  </thead>\n",
       "  <tbody>\n",
       "    <tr>\n",
       "      <th>4</th>\n",
       "      <td>New Zealand</td>\n",
       "      <td>4433000</td>\n",
       "      <td>2014</td>\n",
       "    </tr>\n",
       "    <tr>\n",
       "      <th>5</th>\n",
       "      <td>Australia</td>\n",
       "      <td>22680000</td>\n",
       "      <td>2014</td>\n",
       "    </tr>\n",
       "    <tr>\n",
       "      <th>6</th>\n",
       "      <td>Cook Islands</td>\n",
       "      <td>10900</td>\n",
       "      <td>2014</td>\n",
       "    </tr>\n",
       "  </tbody>\n",
       "</table>\n",
       "</div>"
      ],
      "text/plain": [
       "         nation  population  year\n",
       "4   New Zealand     4433000  2014\n",
       "5     Australia    22680000  2014\n",
       "6  Cook Islands       10900  2014"
      ]
     },
     "execution_count": 22,
     "metadata": {},
     "output_type": "execute_result"
    }
   ],
   "source": [
    "data.ix[4:6]"
   ]
  },
  {
   "cell_type": "markdown",
   "metadata": {},
   "source": [
    "#### By Row and Column"
   ]
  },
  {
   "cell_type": "code",
   "execution_count": 23,
   "metadata": {
    "collapsed": false
   },
   "outputs": [
    {
     "data": {
      "text/html": [
       "<div>\n",
       "<table border=\"1\" class=\"dataframe\">\n",
       "  <thead>\n",
       "    <tr style=\"text-align: right;\">\n",
       "      <th></th>\n",
       "      <th>year</th>\n",
       "    </tr>\n",
       "  </thead>\n",
       "  <tbody>\n",
       "    <tr>\n",
       "      <th>4</th>\n",
       "      <td>2014</td>\n",
       "    </tr>\n",
       "    <tr>\n",
       "      <th>5</th>\n",
       "      <td>2014</td>\n",
       "    </tr>\n",
       "    <tr>\n",
       "      <th>6</th>\n",
       "      <td>2014</td>\n",
       "    </tr>\n",
       "  </tbody>\n",
       "</table>\n",
       "</div>"
      ],
      "text/plain": [
       "   year\n",
       "4  2014\n",
       "5  2014\n",
       "6  2014"
      ]
     },
     "execution_count": 23,
     "metadata": {},
     "output_type": "execute_result"
    }
   ],
   "source": [
    "data.ix[4:6,['year']]"
   ]
  },
  {
   "cell_type": "code",
   "execution_count": 24,
   "metadata": {
    "collapsed": false
   },
   "outputs": [
    {
     "data": {
      "text/html": [
       "<div>\n",
       "<table border=\"1\" class=\"dataframe\">\n",
       "  <thead>\n",
       "    <tr style=\"text-align: right;\">\n",
       "      <th></th>\n",
       "      <th>nation</th>\n",
       "      <th>population</th>\n",
       "      <th>year</th>\n",
       "    </tr>\n",
       "  </thead>\n",
       "  <tbody>\n",
       "    <tr>\n",
       "      <th>4</th>\n",
       "      <td>New Zealand</td>\n",
       "      <td>4433000</td>\n",
       "      <td>2014</td>\n",
       "    </tr>\n",
       "    <tr>\n",
       "      <th>5</th>\n",
       "      <td>Australia</td>\n",
       "      <td>22680000</td>\n",
       "      <td>2014</td>\n",
       "    </tr>\n",
       "    <tr>\n",
       "      <th>6</th>\n",
       "      <td>Cook Islands</td>\n",
       "      <td>10900</td>\n",
       "      <td>2014</td>\n",
       "    </tr>\n",
       "  </tbody>\n",
       "</table>\n",
       "</div>"
      ],
      "text/plain": [
       "         nation  population  year\n",
       "4   New Zealand     4433000  2014\n",
       "5     Australia    22680000  2014\n",
       "6  Cook Islands       10900  2014"
      ]
     },
     "execution_count": 24,
     "metadata": {},
     "output_type": "execute_result"
    }
   ],
   "source": [
    "data.ix[4:6, 'nation':'year']"
   ]
  },
  {
   "cell_type": "code",
   "execution_count": 25,
   "metadata": {
    "collapsed": false
   },
   "outputs": [
    {
     "data": {
      "text/html": [
       "<div>\n",
       "<table border=\"1\" class=\"dataframe\">\n",
       "  <thead>\n",
       "    <tr style=\"text-align: right;\">\n",
       "      <th></th>\n",
       "      <th>nation</th>\n",
       "      <th>year</th>\n",
       "    </tr>\n",
       "  </thead>\n",
       "  <tbody>\n",
       "    <tr>\n",
       "      <th>4</th>\n",
       "      <td>New Zealand</td>\n",
       "      <td>2014</td>\n",
       "    </tr>\n",
       "    <tr>\n",
       "      <th>5</th>\n",
       "      <td>Australia</td>\n",
       "      <td>2014</td>\n",
       "    </tr>\n",
       "    <tr>\n",
       "      <th>6</th>\n",
       "      <td>Cook Islands</td>\n",
       "      <td>2014</td>\n",
       "    </tr>\n",
       "  </tbody>\n",
       "</table>\n",
       "</div>"
      ],
      "text/plain": [
       "         nation  year\n",
       "4   New Zealand  2014\n",
       "5     Australia  2014\n",
       "6  Cook Islands  2014"
      ]
     },
     "execution_count": 25,
     "metadata": {},
     "output_type": "execute_result"
    }
   ],
   "source": [
    "data.ixC"
   ]
  },
  {
   "cell_type": "markdown",
   "metadata": {},
   "source": [
    "**Exercise:** Select and display only the first 4 rows of *data* and show only the 'nation' and 'population' features."
   ]
  },
  {
   "cell_type": "code",
   "execution_count": 26,
   "metadata": {
    "collapsed": false
   },
   "outputs": [
    {
     "data": {
      "text/html": [
       "<div>\n",
       "<table border=\"1\" class=\"dataframe\">\n",
       "  <thead>\n",
       "    <tr style=\"text-align: right;\">\n",
       "      <th></th>\n",
       "      <th>nation</th>\n",
       "      <th>population</th>\n",
       "    </tr>\n",
       "  </thead>\n",
       "  <tbody>\n",
       "    <tr>\n",
       "      <th>0</th>\n",
       "      <td>New Zealand</td>\n",
       "      <td>3778000</td>\n",
       "    </tr>\n",
       "    <tr>\n",
       "      <th>1</th>\n",
       "      <td>Australia</td>\n",
       "      <td>19138000</td>\n",
       "    </tr>\n",
       "    <tr>\n",
       "      <th>2</th>\n",
       "      <td>Cook Islands</td>\n",
       "      <td>20000</td>\n",
       "    </tr>\n",
       "    <tr>\n",
       "      <th>3</th>\n",
       "      <td>Solomon Islands</td>\n",
       "      <td>447000</td>\n",
       "    </tr>\n",
       "  </tbody>\n",
       "</table>\n",
       "</div>"
      ],
      "text/plain": [
       "            nation  population\n",
       "0      New Zealand     3778000\n",
       "1        Australia    19138000\n",
       "2     Cook Islands       20000\n",
       "3  Solomon Islands      447000"
      ]
     },
     "execution_count": 26,
     "metadata": {},
     "output_type": "execute_result"
    }
   ],
   "source": [
    "data.ix[:3,[0,1]]"
   ]
  },
  {
   "cell_type": "markdown",
   "metadata": {},
   "source": [
    "### Filtering Data"
   ]
  },
  {
   "cell_type": "markdown",
   "metadata": {},
   "source": [
    "Data Frames provide the functionality to select data based on specific conditions. This is called 'filtering'. \n",
    "\n",
    "There are a number of different ways of performing filtering."
   ]
  },
  {
   "cell_type": "code",
   "execution_count": 27,
   "metadata": {
    "collapsed": false
   },
   "outputs": [
    {
     "data": {
      "text/html": [
       "<div>\n",
       "<table border=\"1\" class=\"dataframe\">\n",
       "  <thead>\n",
       "    <tr style=\"text-align: right;\">\n",
       "      <th></th>\n",
       "      <th>nation</th>\n",
       "      <th>population</th>\n",
       "      <th>year</th>\n",
       "    </tr>\n",
       "  </thead>\n",
       "  <tbody>\n",
       "    <tr>\n",
       "      <th>0</th>\n",
       "      <td>New Zealand</td>\n",
       "      <td>3778000</td>\n",
       "      <td>2000</td>\n",
       "    </tr>\n",
       "    <tr>\n",
       "      <th>1</th>\n",
       "      <td>Australia</td>\n",
       "      <td>19138000</td>\n",
       "      <td>2000</td>\n",
       "    </tr>\n",
       "    <tr>\n",
       "      <th>4</th>\n",
       "      <td>New Zealand</td>\n",
       "      <td>4433000</td>\n",
       "      <td>2014</td>\n",
       "    </tr>\n",
       "    <tr>\n",
       "      <th>5</th>\n",
       "      <td>Australia</td>\n",
       "      <td>22680000</td>\n",
       "      <td>2014</td>\n",
       "    </tr>\n",
       "  </tbody>\n",
       "</table>\n",
       "</div>"
      ],
      "text/plain": [
       "        nation  population  year\n",
       "0  New Zealand     3778000  2000\n",
       "1    Australia    19138000  2000\n",
       "4  New Zealand     4433000  2014\n",
       "5    Australia    22680000  2014"
      ]
     },
     "execution_count": 27,
     "metadata": {},
     "output_type": "execute_result"
    }
   ],
   "source": [
    "data[data.population > 1000000]"
   ]
  },
  {
   "cell_type": "markdown",
   "metadata": {},
   "source": [
    "The most common is using a second set of square brackets, which contain the actual condition to be satisfied:"
   ]
  },
  {
   "cell_type": "code",
   "execution_count": 28,
   "metadata": {
    "collapsed": false
   },
   "outputs": [
    {
     "data": {
      "text/plain": [
       "0    3778000\n",
       "4    4433000\n",
       "Name: population, dtype: int64"
      ]
     },
     "execution_count": 28,
     "metadata": {},
     "output_type": "execute_result"
    }
   ],
   "source": [
    "data['population'][data['nation'] == 'New Zealand']"
   ]
  },
  {
   "cell_type": "markdown",
   "metadata": {},
   "source": [
    "Often we need to perform filtering on multiple conditions.\n",
    "\n",
    "Below is an example of displaying the nation name and population of a country that has more than 1 million population on data after year 2000. "
   ]
  },
  {
   "cell_type": "code",
   "execution_count": 29,
   "metadata": {
    "collapsed": false
   },
   "outputs": [
    {
     "data": {
      "text/html": [
       "<div>\n",
       "<table border=\"1\" class=\"dataframe\">\n",
       "  <thead>\n",
       "    <tr style=\"text-align: right;\">\n",
       "      <th></th>\n",
       "      <th>nation</th>\n",
       "      <th>population</th>\n",
       "    </tr>\n",
       "  </thead>\n",
       "  <tbody>\n",
       "    <tr>\n",
       "      <th>4</th>\n",
       "      <td>New Zealand</td>\n",
       "      <td>4433000</td>\n",
       "    </tr>\n",
       "    <tr>\n",
       "      <th>5</th>\n",
       "      <td>Australia</td>\n",
       "      <td>22680000</td>\n",
       "    </tr>\n",
       "  </tbody>\n",
       "</table>\n",
       "</div>"
      ],
      "text/plain": [
       "        nation  population\n",
       "4  New Zealand     4433000\n",
       "5    Australia    22680000"
      ]
     },
     "execution_count": 29,
     "metadata": {},
     "output_type": "execute_result"
    }
   ],
   "source": [
    "data[['nation','population']][(data['population'] > 1000000) & (data['year'] > 2000)]"
   ]
  },
  {
   "cell_type": "markdown",
   "metadata": {},
   "source": [
    "Notice that the multiple conditions must be enclosed within the parentheses. The symbol '&' signifies that both sides of the equations must be satisfied. Alternatively, the symbol '|' signifying or, can be used when either one of the conditions must be satisfied. "
   ]
  },
  {
   "cell_type": "markdown",
   "metadata": {},
   "source": [
    "**Exercise**: Write a filter that display the name and the year of countries which had populations greater than 2 million and smaller 20 million."
   ]
  },
  {
   "cell_type": "code",
   "execution_count": 30,
   "metadata": {
    "collapsed": false
   },
   "outputs": [
    {
     "data": {
      "text/html": [
       "<div>\n",
       "<table border=\"1\" class=\"dataframe\">\n",
       "  <thead>\n",
       "    <tr style=\"text-align: right;\">\n",
       "      <th></th>\n",
       "      <th>nation</th>\n",
       "      <th>year</th>\n",
       "    </tr>\n",
       "  </thead>\n",
       "  <tbody>\n",
       "    <tr>\n",
       "      <th>0</th>\n",
       "      <td>New Zealand</td>\n",
       "      <td>2000</td>\n",
       "    </tr>\n",
       "    <tr>\n",
       "      <th>1</th>\n",
       "      <td>Australia</td>\n",
       "      <td>2000</td>\n",
       "    </tr>\n",
       "    <tr>\n",
       "      <th>4</th>\n",
       "      <td>New Zealand</td>\n",
       "      <td>2014</td>\n",
       "    </tr>\n",
       "  </tbody>\n",
       "</table>\n",
       "</div>"
      ],
      "text/plain": [
       "        nation  year\n",
       "0  New Zealand  2000\n",
       "1    Australia  2000\n",
       "4  New Zealand  2014"
      ]
     },
     "execution_count": 30,
     "metadata": {},
     "output_type": "execute_result"
    }
   ],
   "source": [
    "data[['nation','year']][(data['population'] > 2000000) & (data['population'] < 20000000)]"
   ]
  },
  {
   "cell_type": "markdown",
   "metadata": {},
   "source": [
    "Pandas is under continual development and improvement. The new and experimental functionality which simplifies the filtering is using the keyword *query*"
   ]
  },
  {
   "cell_type": "code",
   "execution_count": 31,
   "metadata": {
    "collapsed": false
   },
   "outputs": [
    {
     "data": {
      "text/html": [
       "<div>\n",
       "<table border=\"1\" class=\"dataframe\">\n",
       "  <thead>\n",
       "    <tr style=\"text-align: right;\">\n",
       "      <th></th>\n",
       "      <th>year</th>\n",
       "      <th>nation</th>\n",
       "    </tr>\n",
       "  </thead>\n",
       "  <tbody>\n",
       "    <tr>\n",
       "      <th>4</th>\n",
       "      <td>2014</td>\n",
       "      <td>New Zealand</td>\n",
       "    </tr>\n",
       "    <tr>\n",
       "      <th>5</th>\n",
       "      <td>2014</td>\n",
       "      <td>Australia</td>\n",
       "    </tr>\n",
       "    <tr>\n",
       "      <th>6</th>\n",
       "      <td>2014</td>\n",
       "      <td>Cook Islands</td>\n",
       "    </tr>\n",
       "    <tr>\n",
       "      <th>7</th>\n",
       "      <td>2014</td>\n",
       "      <td>Solomon Islands</td>\n",
       "    </tr>\n",
       "  </tbody>\n",
       "</table>\n",
       "</div>"
      ],
      "text/plain": [
       "   year           nation\n",
       "4  2014      New Zealand\n",
       "5  2014        Australia\n",
       "6  2014     Cook Islands\n",
       "7  2014  Solomon Islands"
      ]
     },
     "execution_count": 31,
     "metadata": {},
     "output_type": "execute_result"
    }
   ],
   "source": [
    "data[['year','nation']].query('year > 2000')"
   ]
  },
  {
   "cell_type": "code",
   "execution_count": 32,
   "metadata": {
    "collapsed": false
   },
   "outputs": [
    {
     "data": {
      "text/html": [
       "<div>\n",
       "<table border=\"1\" class=\"dataframe\">\n",
       "  <thead>\n",
       "    <tr style=\"text-align: right;\">\n",
       "      <th></th>\n",
       "      <th>year</th>\n",
       "      <th>nation</th>\n",
       "    </tr>\n",
       "  </thead>\n",
       "  <tbody>\n",
       "    <tr>\n",
       "      <th>4</th>\n",
       "      <td>2014</td>\n",
       "      <td>New Zealand</td>\n",
       "    </tr>\n",
       "    <tr>\n",
       "      <th>5</th>\n",
       "      <td>2014</td>\n",
       "      <td>Australia</td>\n",
       "    </tr>\n",
       "  </tbody>\n",
       "</table>\n",
       "</div>"
      ],
      "text/plain": [
       "   year       nation\n",
       "4  2014  New Zealand\n",
       "5  2014    Australia"
      ]
     },
     "execution_count": 32,
     "metadata": {},
     "output_type": "execute_result"
    }
   ],
   "source": [
    "data[['year','nation']].query('year > 2000 and nation in [\"Australia\", \"New Zealand\"]')"
   ]
  },
  {
   "cell_type": "code",
   "execution_count": 33,
   "metadata": {
    "collapsed": false
   },
   "outputs": [
    {
     "data": {
      "text/html": [
       "<div>\n",
       "<table border=\"1\" class=\"dataframe\">\n",
       "  <thead>\n",
       "    <tr style=\"text-align: right;\">\n",
       "      <th></th>\n",
       "      <th>year</th>\n",
       "      <th>nation</th>\n",
       "    </tr>\n",
       "  </thead>\n",
       "  <tbody>\n",
       "    <tr>\n",
       "      <th>5</th>\n",
       "      <td>2014</td>\n",
       "      <td>Australia</td>\n",
       "    </tr>\n",
       "    <tr>\n",
       "      <th>6</th>\n",
       "      <td>2014</td>\n",
       "      <td>Cook Islands</td>\n",
       "    </tr>\n",
       "    <tr>\n",
       "      <th>7</th>\n",
       "      <td>2014</td>\n",
       "      <td>Solomon Islands</td>\n",
       "    </tr>\n",
       "  </tbody>\n",
       "</table>\n",
       "</div>"
      ],
      "text/plain": [
       "   year           nation\n",
       "5  2014        Australia\n",
       "6  2014     Cook Islands\n",
       "7  2014  Solomon Islands"
      ]
     },
     "execution_count": 33,
     "metadata": {},
     "output_type": "execute_result"
    }
   ],
   "source": [
    "data[['year','nation']].query('index > 4')"
   ]
  },
  {
   "cell_type": "markdown",
   "metadata": {},
   "source": [
    "Conditional filtering on data frames can also be performed using the `where` construct, which preserves the 'shape' of the data and lists values that do not meet the criterion as a NaN:"
   ]
  },
  {
   "cell_type": "code",
   "execution_count": 34,
   "metadata": {
    "collapsed": false
   },
   "outputs": [
    {
     "data": {
      "text/plain": [
       "0    3778000\n",
       "1        NaN\n",
       "2        NaN\n",
       "3        NaN\n",
       "4    4433000\n",
       "5        NaN\n",
       "6        NaN\n",
       "7        NaN\n",
       "Name: population, dtype: float64"
      ]
     },
     "execution_count": 34,
     "metadata": {},
     "output_type": "execute_result"
    }
   ],
   "source": [
    "data['population'].where(data['nation'] == 'New Zealand')"
   ]
  },
  {
   "cell_type": "markdown",
   "metadata": {},
   "source": [
    "## Modifying Data Frames"
   ]
  },
  {
   "cell_type": "markdown",
   "metadata": {},
   "source": [
    "### Adding New Columns"
   ]
  },
  {
   "cell_type": "markdown",
   "metadata": {},
   "source": [
    "New columns can be created as follows:"
   ]
  },
  {
   "cell_type": "code",
   "execution_count": 35,
   "metadata": {
    "collapsed": false
   },
   "outputs": [
    {
     "data": {
      "text/html": [
       "<div>\n",
       "<table border=\"1\" class=\"dataframe\">\n",
       "  <thead>\n",
       "    <tr style=\"text-align: right;\">\n",
       "      <th></th>\n",
       "      <th>nation</th>\n",
       "      <th>population</th>\n",
       "      <th>year</th>\n",
       "      <th>region</th>\n",
       "    </tr>\n",
       "  </thead>\n",
       "  <tbody>\n",
       "    <tr>\n",
       "      <th>0</th>\n",
       "      <td>New Zealand</td>\n",
       "      <td>3778000</td>\n",
       "      <td>2000</td>\n",
       "      <td></td>\n",
       "    </tr>\n",
       "    <tr>\n",
       "      <th>1</th>\n",
       "      <td>Australia</td>\n",
       "      <td>19138000</td>\n",
       "      <td>2000</td>\n",
       "      <td></td>\n",
       "    </tr>\n",
       "    <tr>\n",
       "      <th>2</th>\n",
       "      <td>Cook Islands</td>\n",
       "      <td>20000</td>\n",
       "      <td>2000</td>\n",
       "      <td></td>\n",
       "    </tr>\n",
       "    <tr>\n",
       "      <th>3</th>\n",
       "      <td>Solomon Islands</td>\n",
       "      <td>447000</td>\n",
       "      <td>2000</td>\n",
       "      <td></td>\n",
       "    </tr>\n",
       "    <tr>\n",
       "      <th>4</th>\n",
       "      <td>New Zealand</td>\n",
       "      <td>4433000</td>\n",
       "      <td>2014</td>\n",
       "      <td></td>\n",
       "    </tr>\n",
       "    <tr>\n",
       "      <th>5</th>\n",
       "      <td>Australia</td>\n",
       "      <td>22680000</td>\n",
       "      <td>2014</td>\n",
       "      <td></td>\n",
       "    </tr>\n",
       "    <tr>\n",
       "      <th>6</th>\n",
       "      <td>Cook Islands</td>\n",
       "      <td>10900</td>\n",
       "      <td>2014</td>\n",
       "      <td></td>\n",
       "    </tr>\n",
       "    <tr>\n",
       "      <th>7</th>\n",
       "      <td>Solomon Islands</td>\n",
       "      <td>549598</td>\n",
       "      <td>2014</td>\n",
       "      <td></td>\n",
       "    </tr>\n",
       "  </tbody>\n",
       "</table>\n",
       "</div>"
      ],
      "text/plain": [
       "            nation  population  year region\n",
       "0      New Zealand     3778000  2000       \n",
       "1        Australia    19138000  2000       \n",
       "2     Cook Islands       20000  2000       \n",
       "3  Solomon Islands      447000  2000       \n",
       "4      New Zealand     4433000  2014       \n",
       "5        Australia    22680000  2014       \n",
       "6     Cook Islands       10900  2014       \n",
       "7  Solomon Islands      549598  2014       "
      ]
     },
     "execution_count": 35,
     "metadata": {},
     "output_type": "execute_result"
    }
   ],
   "source": [
    "data['region'] = ''\n",
    "data"
   ]
  },
  {
   "cell_type": "markdown",
   "metadata": {},
   "source": [
    "Values can be assigned to new columns directly:"
   ]
  },
  {
   "cell_type": "code",
   "execution_count": 36,
   "metadata": {
    "collapsed": false
   },
   "outputs": [
    {
     "data": {
      "text/html": [
       "<div>\n",
       "<table border=\"1\" class=\"dataframe\">\n",
       "  <thead>\n",
       "    <tr style=\"text-align: right;\">\n",
       "      <th></th>\n",
       "      <th>nation</th>\n",
       "      <th>population</th>\n",
       "      <th>year</th>\n",
       "      <th>region</th>\n",
       "    </tr>\n",
       "  </thead>\n",
       "  <tbody>\n",
       "    <tr>\n",
       "      <th>0</th>\n",
       "      <td>New Zealand</td>\n",
       "      <td>3778000</td>\n",
       "      <td>2000</td>\n",
       "      <td>Oceania</td>\n",
       "    </tr>\n",
       "    <tr>\n",
       "      <th>1</th>\n",
       "      <td>Australia</td>\n",
       "      <td>19138000</td>\n",
       "      <td>2000</td>\n",
       "      <td>Oceania</td>\n",
       "    </tr>\n",
       "    <tr>\n",
       "      <th>2</th>\n",
       "      <td>Cook Islands</td>\n",
       "      <td>20000</td>\n",
       "      <td>2000</td>\n",
       "      <td>Oceania</td>\n",
       "    </tr>\n",
       "    <tr>\n",
       "      <th>3</th>\n",
       "      <td>Solomon Islands</td>\n",
       "      <td>447000</td>\n",
       "      <td>2000</td>\n",
       "      <td>Oceania</td>\n",
       "    </tr>\n",
       "    <tr>\n",
       "      <th>4</th>\n",
       "      <td>New Zealand</td>\n",
       "      <td>4433000</td>\n",
       "      <td>2014</td>\n",
       "      <td>Oceania</td>\n",
       "    </tr>\n",
       "    <tr>\n",
       "      <th>5</th>\n",
       "      <td>Australia</td>\n",
       "      <td>22680000</td>\n",
       "      <td>2014</td>\n",
       "      <td>Oceania</td>\n",
       "    </tr>\n",
       "    <tr>\n",
       "      <th>6</th>\n",
       "      <td>Cook Islands</td>\n",
       "      <td>10900</td>\n",
       "      <td>2014</td>\n",
       "      <td>Oceania</td>\n",
       "    </tr>\n",
       "    <tr>\n",
       "      <th>7</th>\n",
       "      <td>Solomon Islands</td>\n",
       "      <td>549598</td>\n",
       "      <td>2014</td>\n",
       "      <td>Oceania</td>\n",
       "    </tr>\n",
       "  </tbody>\n",
       "</table>\n",
       "</div>"
      ],
      "text/plain": [
       "            nation  population  year   region\n",
       "0      New Zealand     3778000  2000  Oceania\n",
       "1        Australia    19138000  2000  Oceania\n",
       "2     Cook Islands       20000  2000  Oceania\n",
       "3  Solomon Islands      447000  2000  Oceania\n",
       "4      New Zealand     4433000  2014  Oceania\n",
       "5        Australia    22680000  2014  Oceania\n",
       "6     Cook Islands       10900  2014  Oceania\n",
       "7  Solomon Islands      549598  2014  Oceania"
      ]
     },
     "execution_count": 36,
     "metadata": {},
     "output_type": "execute_result"
    }
   ],
   "source": [
    "data['region'] = 'Oceania'\n",
    "data"
   ]
  },
  {
   "cell_type": "markdown",
   "metadata": {},
   "source": [
    "We can create new columns automatically which are in some way derivatives of existing data\n"
   ]
  },
  {
   "cell_type": "code",
   "execution_count": 37,
   "metadata": {
    "collapsed": false
   },
   "outputs": [
    {
     "data": {
      "text/html": [
       "<div>\n",
       "<table border=\"1\" class=\"dataframe\">\n",
       "  <thead>\n",
       "    <tr style=\"text-align: right;\">\n",
       "      <th></th>\n",
       "      <th>nation</th>\n",
       "      <th>population</th>\n",
       "      <th>year</th>\n",
       "      <th>region</th>\n",
       "      <th>risingSeaLevelRisk</th>\n",
       "    </tr>\n",
       "  </thead>\n",
       "  <tbody>\n",
       "    <tr>\n",
       "      <th>0</th>\n",
       "      <td>New Zealand</td>\n",
       "      <td>3778000</td>\n",
       "      <td>2000</td>\n",
       "      <td>Oceania</td>\n",
       "      <td>False</td>\n",
       "    </tr>\n",
       "    <tr>\n",
       "      <th>1</th>\n",
       "      <td>Australia</td>\n",
       "      <td>19138000</td>\n",
       "      <td>2000</td>\n",
       "      <td>Oceania</td>\n",
       "      <td>False</td>\n",
       "    </tr>\n",
       "    <tr>\n",
       "      <th>2</th>\n",
       "      <td>Cook Islands</td>\n",
       "      <td>20000</td>\n",
       "      <td>2000</td>\n",
       "      <td>Oceania</td>\n",
       "      <td>True</td>\n",
       "    </tr>\n",
       "    <tr>\n",
       "      <th>3</th>\n",
       "      <td>Solomon Islands</td>\n",
       "      <td>447000</td>\n",
       "      <td>2000</td>\n",
       "      <td>Oceania</td>\n",
       "      <td>True</td>\n",
       "    </tr>\n",
       "    <tr>\n",
       "      <th>4</th>\n",
       "      <td>New Zealand</td>\n",
       "      <td>4433000</td>\n",
       "      <td>2014</td>\n",
       "      <td>Oceania</td>\n",
       "      <td>False</td>\n",
       "    </tr>\n",
       "    <tr>\n",
       "      <th>5</th>\n",
       "      <td>Australia</td>\n",
       "      <td>22680000</td>\n",
       "      <td>2014</td>\n",
       "      <td>Oceania</td>\n",
       "      <td>False</td>\n",
       "    </tr>\n",
       "    <tr>\n",
       "      <th>6</th>\n",
       "      <td>Cook Islands</td>\n",
       "      <td>10900</td>\n",
       "      <td>2014</td>\n",
       "      <td>Oceania</td>\n",
       "      <td>True</td>\n",
       "    </tr>\n",
       "    <tr>\n",
       "      <th>7</th>\n",
       "      <td>Solomon Islands</td>\n",
       "      <td>549598</td>\n",
       "      <td>2014</td>\n",
       "      <td>Oceania</td>\n",
       "      <td>True</td>\n",
       "    </tr>\n",
       "  </tbody>\n",
       "</table>\n",
       "</div>"
      ],
      "text/plain": [
       "            nation  population  year   region risingSeaLevelRisk\n",
       "0      New Zealand     3778000  2000  Oceania              False\n",
       "1        Australia    19138000  2000  Oceania              False\n",
       "2     Cook Islands       20000  2000  Oceania               True\n",
       "3  Solomon Islands      447000  2000  Oceania               True\n",
       "4      New Zealand     4433000  2014  Oceania              False\n",
       "5        Australia    22680000  2014  Oceania              False\n",
       "6     Cook Islands       10900  2014  Oceania               True\n",
       "7  Solomon Islands      549598  2014  Oceania               True"
      ]
     },
     "execution_count": 37,
     "metadata": {},
     "output_type": "execute_result"
    }
   ],
   "source": [
    "data['risingSeaLevelRisk'] =  data['nation'].str.contains(\"Islands\")\n",
    "data"
   ]
  },
  {
   "cell_type": "markdown",
   "metadata": {},
   "source": [
    "We can also derive new columns by applying a math operation to existing columns\n",
    "\n",
    "**Exercise**: Write code that creates a new column (call it sqrtPopulation) which holds the values of the square root of the population. The function can be accessed through np.sqrt()"
   ]
  },
  {
   "cell_type": "code",
   "execution_count": 38,
   "metadata": {
    "collapsed": false
   },
   "outputs": [
    {
     "data": {
      "text/html": [
       "<div>\n",
       "<table border=\"1\" class=\"dataframe\">\n",
       "  <thead>\n",
       "    <tr style=\"text-align: right;\">\n",
       "      <th></th>\n",
       "      <th>nation</th>\n",
       "      <th>population</th>\n",
       "      <th>year</th>\n",
       "      <th>region</th>\n",
       "      <th>risingSeaLevelRisk</th>\n",
       "      <th>sqrtPopulation</th>\n",
       "    </tr>\n",
       "  </thead>\n",
       "  <tbody>\n",
       "    <tr>\n",
       "      <th>0</th>\n",
       "      <td>New Zealand</td>\n",
       "      <td>3778000</td>\n",
       "      <td>2000</td>\n",
       "      <td>Oceania</td>\n",
       "      <td>False</td>\n",
       "      <td>1943.707797</td>\n",
       "    </tr>\n",
       "    <tr>\n",
       "      <th>1</th>\n",
       "      <td>Australia</td>\n",
       "      <td>19138000</td>\n",
       "      <td>2000</td>\n",
       "      <td>Oceania</td>\n",
       "      <td>False</td>\n",
       "      <td>4374.699990</td>\n",
       "    </tr>\n",
       "    <tr>\n",
       "      <th>2</th>\n",
       "      <td>Cook Islands</td>\n",
       "      <td>20000</td>\n",
       "      <td>2000</td>\n",
       "      <td>Oceania</td>\n",
       "      <td>True</td>\n",
       "      <td>141.421356</td>\n",
       "    </tr>\n",
       "    <tr>\n",
       "      <th>3</th>\n",
       "      <td>Solomon Islands</td>\n",
       "      <td>447000</td>\n",
       "      <td>2000</td>\n",
       "      <td>Oceania</td>\n",
       "      <td>True</td>\n",
       "      <td>668.580586</td>\n",
       "    </tr>\n",
       "    <tr>\n",
       "      <th>4</th>\n",
       "      <td>New Zealand</td>\n",
       "      <td>4433000</td>\n",
       "      <td>2014</td>\n",
       "      <td>Oceania</td>\n",
       "      <td>False</td>\n",
       "      <td>2105.469069</td>\n",
       "    </tr>\n",
       "    <tr>\n",
       "      <th>5</th>\n",
       "      <td>Australia</td>\n",
       "      <td>22680000</td>\n",
       "      <td>2014</td>\n",
       "      <td>Oceania</td>\n",
       "      <td>False</td>\n",
       "      <td>4762.352360</td>\n",
       "    </tr>\n",
       "    <tr>\n",
       "      <th>6</th>\n",
       "      <td>Cook Islands</td>\n",
       "      <td>10900</td>\n",
       "      <td>2014</td>\n",
       "      <td>Oceania</td>\n",
       "      <td>True</td>\n",
       "      <td>104.403065</td>\n",
       "    </tr>\n",
       "    <tr>\n",
       "      <th>7</th>\n",
       "      <td>Solomon Islands</td>\n",
       "      <td>549598</td>\n",
       "      <td>2014</td>\n",
       "      <td>Oceania</td>\n",
       "      <td>True</td>\n",
       "      <td>741.348771</td>\n",
       "    </tr>\n",
       "  </tbody>\n",
       "</table>\n",
       "</div>"
      ],
      "text/plain": [
       "            nation  population  year   region risingSeaLevelRisk  \\\n",
       "0      New Zealand     3778000  2000  Oceania              False   \n",
       "1        Australia    19138000  2000  Oceania              False   \n",
       "2     Cook Islands       20000  2000  Oceania               True   \n",
       "3  Solomon Islands      447000  2000  Oceania               True   \n",
       "4      New Zealand     4433000  2014  Oceania              False   \n",
       "5        Australia    22680000  2014  Oceania              False   \n",
       "6     Cook Islands       10900  2014  Oceania               True   \n",
       "7  Solomon Islands      549598  2014  Oceania               True   \n",
       "\n",
       "   sqrtPopulation  \n",
       "0     1943.707797  \n",
       "1     4374.699990  \n",
       "2      141.421356  \n",
       "3      668.580586  \n",
       "4     2105.469069  \n",
       "5     4762.352360  \n",
       "6      104.403065  \n",
       "7      741.348771  "
      ]
     },
     "execution_count": 38,
     "metadata": {},
     "output_type": "execute_result"
    }
   ],
   "source": [
    "data['sqrtPopulation'] = np.sqrt(data.population)\n",
    "data"
   ]
  },
  {
   "cell_type": "markdown",
   "metadata": {},
   "source": [
    "A frequent task performed in data cleaning and analysis is modifying data types for columns. The below code shows how this can be done."
   ]
  },
  {
   "cell_type": "code",
   "execution_count": 39,
   "metadata": {
    "collapsed": false
   },
   "outputs": [
    {
     "data": {
      "text/html": [
       "<div>\n",
       "<table border=\"1\" class=\"dataframe\">\n",
       "  <thead>\n",
       "    <tr style=\"text-align: right;\">\n",
       "      <th></th>\n",
       "      <th>nation</th>\n",
       "      <th>population</th>\n",
       "      <th>year</th>\n",
       "      <th>region</th>\n",
       "      <th>risingSeaLevelRisk</th>\n",
       "      <th>sqrtPopulation</th>\n",
       "    </tr>\n",
       "  </thead>\n",
       "  <tbody>\n",
       "    <tr>\n",
       "      <th>0</th>\n",
       "      <td>New Zealand</td>\n",
       "      <td>3778000</td>\n",
       "      <td>2000</td>\n",
       "      <td>Oceania</td>\n",
       "      <td>False</td>\n",
       "      <td>1943</td>\n",
       "    </tr>\n",
       "    <tr>\n",
       "      <th>1</th>\n",
       "      <td>Australia</td>\n",
       "      <td>19138000</td>\n",
       "      <td>2000</td>\n",
       "      <td>Oceania</td>\n",
       "      <td>False</td>\n",
       "      <td>4374</td>\n",
       "    </tr>\n",
       "    <tr>\n",
       "      <th>2</th>\n",
       "      <td>Cook Islands</td>\n",
       "      <td>20000</td>\n",
       "      <td>2000</td>\n",
       "      <td>Oceania</td>\n",
       "      <td>True</td>\n",
       "      <td>141</td>\n",
       "    </tr>\n",
       "    <tr>\n",
       "      <th>3</th>\n",
       "      <td>Solomon Islands</td>\n",
       "      <td>447000</td>\n",
       "      <td>2000</td>\n",
       "      <td>Oceania</td>\n",
       "      <td>True</td>\n",
       "      <td>668</td>\n",
       "    </tr>\n",
       "    <tr>\n",
       "      <th>4</th>\n",
       "      <td>New Zealand</td>\n",
       "      <td>4433000</td>\n",
       "      <td>2014</td>\n",
       "      <td>Oceania</td>\n",
       "      <td>False</td>\n",
       "      <td>2105</td>\n",
       "    </tr>\n",
       "    <tr>\n",
       "      <th>5</th>\n",
       "      <td>Australia</td>\n",
       "      <td>22680000</td>\n",
       "      <td>2014</td>\n",
       "      <td>Oceania</td>\n",
       "      <td>False</td>\n",
       "      <td>4762</td>\n",
       "    </tr>\n",
       "    <tr>\n",
       "      <th>6</th>\n",
       "      <td>Cook Islands</td>\n",
       "      <td>10900</td>\n",
       "      <td>2014</td>\n",
       "      <td>Oceania</td>\n",
       "      <td>True</td>\n",
       "      <td>104</td>\n",
       "    </tr>\n",
       "    <tr>\n",
       "      <th>7</th>\n",
       "      <td>Solomon Islands</td>\n",
       "      <td>549598</td>\n",
       "      <td>2014</td>\n",
       "      <td>Oceania</td>\n",
       "      <td>True</td>\n",
       "      <td>741</td>\n",
       "    </tr>\n",
       "  </tbody>\n",
       "</table>\n",
       "</div>"
      ],
      "text/plain": [
       "            nation  population  year   region risingSeaLevelRisk  \\\n",
       "0      New Zealand     3778000  2000  Oceania              False   \n",
       "1        Australia    19138000  2000  Oceania              False   \n",
       "2     Cook Islands       20000  2000  Oceania               True   \n",
       "3  Solomon Islands      447000  2000  Oceania               True   \n",
       "4      New Zealand     4433000  2014  Oceania              False   \n",
       "5        Australia    22680000  2014  Oceania              False   \n",
       "6     Cook Islands       10900  2014  Oceania               True   \n",
       "7  Solomon Islands      549598  2014  Oceania               True   \n",
       "\n",
       "   sqrtPopulation  \n",
       "0            1943  \n",
       "1            4374  \n",
       "2             141  \n",
       "3             668  \n",
       "4            2105  \n",
       "5            4762  \n",
       "6             104  \n",
       "7             741  "
      ]
     },
     "execution_count": 39,
     "metadata": {},
     "output_type": "execute_result"
    }
   ],
   "source": [
    "data['sqrtPopulation'] = data['sqrtPopulation'].astype(int)\n",
    "data"
   ]
  },
  {
   "cell_type": "markdown",
   "metadata": {},
   "source": [
    "Columns can be deleted as follows"
   ]
  },
  {
   "cell_type": "code",
   "execution_count": 40,
   "metadata": {
    "collapsed": false
   },
   "outputs": [
    {
     "data": {
      "text/html": [
       "<div>\n",
       "<table border=\"1\" class=\"dataframe\">\n",
       "  <thead>\n",
       "    <tr style=\"text-align: right;\">\n",
       "      <th></th>\n",
       "      <th>nation</th>\n",
       "      <th>population</th>\n",
       "      <th>year</th>\n",
       "      <th>region</th>\n",
       "      <th>risingSeaLevelRisk</th>\n",
       "    </tr>\n",
       "  </thead>\n",
       "  <tbody>\n",
       "    <tr>\n",
       "      <th>0</th>\n",
       "      <td>New Zealand</td>\n",
       "      <td>3778000</td>\n",
       "      <td>2000</td>\n",
       "      <td>Oceania</td>\n",
       "      <td>False</td>\n",
       "    </tr>\n",
       "    <tr>\n",
       "      <th>1</th>\n",
       "      <td>Australia</td>\n",
       "      <td>19138000</td>\n",
       "      <td>2000</td>\n",
       "      <td>Oceania</td>\n",
       "      <td>False</td>\n",
       "    </tr>\n",
       "    <tr>\n",
       "      <th>2</th>\n",
       "      <td>Cook Islands</td>\n",
       "      <td>20000</td>\n",
       "      <td>2000</td>\n",
       "      <td>Oceania</td>\n",
       "      <td>True</td>\n",
       "    </tr>\n",
       "    <tr>\n",
       "      <th>3</th>\n",
       "      <td>Solomon Islands</td>\n",
       "      <td>447000</td>\n",
       "      <td>2000</td>\n",
       "      <td>Oceania</td>\n",
       "      <td>True</td>\n",
       "    </tr>\n",
       "    <tr>\n",
       "      <th>4</th>\n",
       "      <td>New Zealand</td>\n",
       "      <td>4433000</td>\n",
       "      <td>2014</td>\n",
       "      <td>Oceania</td>\n",
       "      <td>False</td>\n",
       "    </tr>\n",
       "    <tr>\n",
       "      <th>5</th>\n",
       "      <td>Australia</td>\n",
       "      <td>22680000</td>\n",
       "      <td>2014</td>\n",
       "      <td>Oceania</td>\n",
       "      <td>False</td>\n",
       "    </tr>\n",
       "    <tr>\n",
       "      <th>6</th>\n",
       "      <td>Cook Islands</td>\n",
       "      <td>10900</td>\n",
       "      <td>2014</td>\n",
       "      <td>Oceania</td>\n",
       "      <td>True</td>\n",
       "    </tr>\n",
       "    <tr>\n",
       "      <th>7</th>\n",
       "      <td>Solomon Islands</td>\n",
       "      <td>549598</td>\n",
       "      <td>2014</td>\n",
       "      <td>Oceania</td>\n",
       "      <td>True</td>\n",
       "    </tr>\n",
       "  </tbody>\n",
       "</table>\n",
       "</div>"
      ],
      "text/plain": [
       "            nation  population  year   region risingSeaLevelRisk\n",
       "0      New Zealand     3778000  2000  Oceania              False\n",
       "1        Australia    19138000  2000  Oceania              False\n",
       "2     Cook Islands       20000  2000  Oceania               True\n",
       "3  Solomon Islands      447000  2000  Oceania               True\n",
       "4      New Zealand     4433000  2014  Oceania              False\n",
       "5        Australia    22680000  2014  Oceania              False\n",
       "6     Cook Islands       10900  2014  Oceania               True\n",
       "7  Solomon Islands      549598  2014  Oceania               True"
      ]
     },
     "execution_count": 40,
     "metadata": {},
     "output_type": "execute_result"
    }
   ],
   "source": [
    "del data['sqrtPopulation']\n",
    "data"
   ]
  },
  {
   "cell_type": "markdown",
   "metadata": {},
   "source": [
    "## Changing values"
   ]
  },
  {
   "cell_type": "markdown",
   "metadata": {},
   "source": [
    "We can modify individual values in a data frame by indexing the location in a data frame using the ix attribute."
   ]
  },
  {
   "cell_type": "code",
   "execution_count": 41,
   "metadata": {
    "collapsed": false
   },
   "outputs": [
    {
     "data": {
      "text/html": [
       "<div>\n",
       "<table border=\"1\" class=\"dataframe\">\n",
       "  <thead>\n",
       "    <tr style=\"text-align: right;\">\n",
       "      <th></th>\n",
       "      <th>nation</th>\n",
       "      <th>population</th>\n",
       "      <th>year</th>\n",
       "      <th>region</th>\n",
       "      <th>risingSeaLevelRisk</th>\n",
       "    </tr>\n",
       "  </thead>\n",
       "  <tbody>\n",
       "    <tr>\n",
       "      <th>0</th>\n",
       "      <td>New Zealand</td>\n",
       "      <td>3778000</td>\n",
       "      <td>2000</td>\n",
       "      <td>Oceania</td>\n",
       "      <td>False</td>\n",
       "    </tr>\n",
       "    <tr>\n",
       "      <th>1</th>\n",
       "      <td>Australia</td>\n",
       "      <td>19138000</td>\n",
       "      <td>2000</td>\n",
       "      <td>Oceania</td>\n",
       "      <td>False</td>\n",
       "    </tr>\n",
       "    <tr>\n",
       "      <th>2</th>\n",
       "      <td>Cook Islands</td>\n",
       "      <td>20000</td>\n",
       "      <td>2000</td>\n",
       "      <td>Oceania</td>\n",
       "      <td>True</td>\n",
       "    </tr>\n",
       "    <tr>\n",
       "      <th>3</th>\n",
       "      <td>Solomon Islands</td>\n",
       "      <td>447000</td>\n",
       "      <td>2000</td>\n",
       "      <td>Oceania</td>\n",
       "      <td>True</td>\n",
       "    </tr>\n",
       "    <tr>\n",
       "      <th>4</th>\n",
       "      <td>New Zealand</td>\n",
       "      <td>4433000</td>\n",
       "      <td>2014</td>\n",
       "      <td>Oceania</td>\n",
       "      <td>False</td>\n",
       "    </tr>\n",
       "    <tr>\n",
       "      <th>5</th>\n",
       "      <td>Australia</td>\n",
       "      <td>22680000</td>\n",
       "      <td>2014</td>\n",
       "      <td>Oceania</td>\n",
       "      <td>False</td>\n",
       "    </tr>\n",
       "    <tr>\n",
       "      <th>6</th>\n",
       "      <td>Cook Islands</td>\n",
       "      <td>10900</td>\n",
       "      <td>2014</td>\n",
       "      <td>Oceania</td>\n",
       "      <td>True</td>\n",
       "    </tr>\n",
       "    <tr>\n",
       "      <th>7</th>\n",
       "      <td>Solomon Islands</td>\n",
       "      <td>549598</td>\n",
       "      <td>2014</td>\n",
       "      <td>Oceania</td>\n",
       "      <td>True</td>\n",
       "    </tr>\n",
       "  </tbody>\n",
       "</table>\n",
       "</div>"
      ],
      "text/plain": [
       "            nation  population  year   region risingSeaLevelRisk\n",
       "0      New Zealand     3778000  2000  Oceania              False\n",
       "1        Australia    19138000  2000  Oceania              False\n",
       "2     Cook Islands       20000  2000  Oceania               True\n",
       "3  Solomon Islands      447000  2000  Oceania               True\n",
       "4      New Zealand     4433000  2014  Oceania              False\n",
       "5        Australia    22680000  2014  Oceania              False\n",
       "6     Cook Islands       10900  2014  Oceania               True\n",
       "7  Solomon Islands      549598  2014  Oceania               True"
      ]
     },
     "execution_count": 41,
     "metadata": {},
     "output_type": "execute_result"
    }
   ],
   "source": [
    "data"
   ]
  },
  {
   "cell_type": "markdown",
   "metadata": {},
   "source": [
    "In order to change the risingSeaLevelRisk for NZ's first entry:"
   ]
  },
  {
   "cell_type": "code",
   "execution_count": 42,
   "metadata": {
    "collapsed": false
   },
   "outputs": [
    {
     "data": {
      "text/html": [
       "<div>\n",
       "<table border=\"1\" class=\"dataframe\">\n",
       "  <thead>\n",
       "    <tr style=\"text-align: right;\">\n",
       "      <th></th>\n",
       "      <th>nation</th>\n",
       "      <th>population</th>\n",
       "      <th>year</th>\n",
       "      <th>region</th>\n",
       "      <th>risingSeaLevelRisk</th>\n",
       "    </tr>\n",
       "  </thead>\n",
       "  <tbody>\n",
       "    <tr>\n",
       "      <th>0</th>\n",
       "      <td>New Zealand</td>\n",
       "      <td>3778000</td>\n",
       "      <td>2000</td>\n",
       "      <td>Oceania</td>\n",
       "      <td>True</td>\n",
       "    </tr>\n",
       "    <tr>\n",
       "      <th>1</th>\n",
       "      <td>Australia</td>\n",
       "      <td>19138000</td>\n",
       "      <td>2000</td>\n",
       "      <td>Oceania</td>\n",
       "      <td>False</td>\n",
       "    </tr>\n",
       "    <tr>\n",
       "      <th>2</th>\n",
       "      <td>Cook Islands</td>\n",
       "      <td>20000</td>\n",
       "      <td>2000</td>\n",
       "      <td>Oceania</td>\n",
       "      <td>True</td>\n",
       "    </tr>\n",
       "    <tr>\n",
       "      <th>3</th>\n",
       "      <td>Solomon Islands</td>\n",
       "      <td>447000</td>\n",
       "      <td>2000</td>\n",
       "      <td>Oceania</td>\n",
       "      <td>True</td>\n",
       "    </tr>\n",
       "    <tr>\n",
       "      <th>4</th>\n",
       "      <td>New Zealand</td>\n",
       "      <td>4433000</td>\n",
       "      <td>2014</td>\n",
       "      <td>Oceania</td>\n",
       "      <td>False</td>\n",
       "    </tr>\n",
       "    <tr>\n",
       "      <th>5</th>\n",
       "      <td>Australia</td>\n",
       "      <td>22680000</td>\n",
       "      <td>2014</td>\n",
       "      <td>Oceania</td>\n",
       "      <td>False</td>\n",
       "    </tr>\n",
       "    <tr>\n",
       "      <th>6</th>\n",
       "      <td>Cook Islands</td>\n",
       "      <td>10900</td>\n",
       "      <td>2014</td>\n",
       "      <td>Oceania</td>\n",
       "      <td>True</td>\n",
       "    </tr>\n",
       "    <tr>\n",
       "      <th>7</th>\n",
       "      <td>Solomon Islands</td>\n",
       "      <td>549598</td>\n",
       "      <td>2014</td>\n",
       "      <td>Oceania</td>\n",
       "      <td>True</td>\n",
       "    </tr>\n",
       "  </tbody>\n",
       "</table>\n",
       "</div>"
      ],
      "text/plain": [
       "            nation  population  year   region risingSeaLevelRisk\n",
       "0      New Zealand     3778000  2000  Oceania               True\n",
       "1        Australia    19138000  2000  Oceania              False\n",
       "2     Cook Islands       20000  2000  Oceania               True\n",
       "3  Solomon Islands      447000  2000  Oceania               True\n",
       "4      New Zealand     4433000  2014  Oceania              False\n",
       "5        Australia    22680000  2014  Oceania              False\n",
       "6     Cook Islands       10900  2014  Oceania               True\n",
       "7  Solomon Islands      549598  2014  Oceania               True"
      ]
     },
     "execution_count": 42,
     "metadata": {},
     "output_type": "execute_result"
    }
   ],
   "source": [
    "data.ix[0,4] = True\n",
    "data"
   ]
  },
  {
   "cell_type": "code",
   "execution_count": null,
   "metadata": {
    "collapsed": false
   },
   "outputs": [],
   "source": []
  },
  {
   "cell_type": "markdown",
   "metadata": {},
   "source": [
    "**Exercise**: Change the value for NZ's second risingSeaLevelRisk value from False to True"
   ]
  },
  {
   "cell_type": "code",
   "execution_count": 43,
   "metadata": {
    "collapsed": false
   },
   "outputs": [
    {
     "data": {
      "text/html": [
       "<div>\n",
       "<table border=\"1\" class=\"dataframe\">\n",
       "  <thead>\n",
       "    <tr style=\"text-align: right;\">\n",
       "      <th></th>\n",
       "      <th>nation</th>\n",
       "      <th>population</th>\n",
       "      <th>year</th>\n",
       "      <th>region</th>\n",
       "      <th>risingSeaLevelRisk</th>\n",
       "    </tr>\n",
       "  </thead>\n",
       "  <tbody>\n",
       "    <tr>\n",
       "      <th>0</th>\n",
       "      <td>New Zealand</td>\n",
       "      <td>3778000</td>\n",
       "      <td>2000</td>\n",
       "      <td>Oceania</td>\n",
       "      <td>True</td>\n",
       "    </tr>\n",
       "    <tr>\n",
       "      <th>1</th>\n",
       "      <td>Australia</td>\n",
       "      <td>19138000</td>\n",
       "      <td>2000</td>\n",
       "      <td>Oceania</td>\n",
       "      <td>False</td>\n",
       "    </tr>\n",
       "    <tr>\n",
       "      <th>2</th>\n",
       "      <td>Cook Islands</td>\n",
       "      <td>20000</td>\n",
       "      <td>2000</td>\n",
       "      <td>Oceania</td>\n",
       "      <td>True</td>\n",
       "    </tr>\n",
       "    <tr>\n",
       "      <th>3</th>\n",
       "      <td>Solomon Islands</td>\n",
       "      <td>447000</td>\n",
       "      <td>2000</td>\n",
       "      <td>Oceania</td>\n",
       "      <td>True</td>\n",
       "    </tr>\n",
       "    <tr>\n",
       "      <th>4</th>\n",
       "      <td>New Zealand</td>\n",
       "      <td>4433000</td>\n",
       "      <td>2014</td>\n",
       "      <td>Oceania</td>\n",
       "      <td>True</td>\n",
       "    </tr>\n",
       "    <tr>\n",
       "      <th>5</th>\n",
       "      <td>Australia</td>\n",
       "      <td>22680000</td>\n",
       "      <td>2014</td>\n",
       "      <td>Oceania</td>\n",
       "      <td>False</td>\n",
       "    </tr>\n",
       "    <tr>\n",
       "      <th>6</th>\n",
       "      <td>Cook Islands</td>\n",
       "      <td>10900</td>\n",
       "      <td>2014</td>\n",
       "      <td>Oceania</td>\n",
       "      <td>True</td>\n",
       "    </tr>\n",
       "    <tr>\n",
       "      <th>7</th>\n",
       "      <td>Solomon Islands</td>\n",
       "      <td>549598</td>\n",
       "      <td>2014</td>\n",
       "      <td>Oceania</td>\n",
       "      <td>True</td>\n",
       "    </tr>\n",
       "  </tbody>\n",
       "</table>\n",
       "</div>"
      ],
      "text/plain": [
       "            nation  population  year   region risingSeaLevelRisk\n",
       "0      New Zealand     3778000  2000  Oceania               True\n",
       "1        Australia    19138000  2000  Oceania              False\n",
       "2     Cook Islands       20000  2000  Oceania               True\n",
       "3  Solomon Islands      447000  2000  Oceania               True\n",
       "4      New Zealand     4433000  2014  Oceania               True\n",
       "5        Australia    22680000  2014  Oceania              False\n",
       "6     Cook Islands       10900  2014  Oceania               True\n",
       "7  Solomon Islands      549598  2014  Oceania               True"
      ]
     },
     "execution_count": 43,
     "metadata": {},
     "output_type": "execute_result"
    }
   ],
   "source": [
    "data.ix[4,4] = True\n",
    "data"
   ]
  },
  {
   "cell_type": "markdown",
   "metadata": {},
   "source": [
    "One of the most time consuming tasks is performing data cleaning, where the task frequently involves changing the values of strings in columns.\n",
    "\n",
    "The following code will change the name of 'New Zealand' to 'New Zealand (Aotearoa)'"
   ]
  },
  {
   "cell_type": "code",
   "execution_count": 44,
   "metadata": {
    "collapsed": false
   },
   "outputs": [
    {
     "data": {
      "text/html": [
       "<div>\n",
       "<table border=\"1\" class=\"dataframe\">\n",
       "  <thead>\n",
       "    <tr style=\"text-align: right;\">\n",
       "      <th></th>\n",
       "      <th>nation</th>\n",
       "      <th>population</th>\n",
       "      <th>year</th>\n",
       "      <th>region</th>\n",
       "      <th>risingSeaLevelRisk</th>\n",
       "    </tr>\n",
       "  </thead>\n",
       "  <tbody>\n",
       "    <tr>\n",
       "      <th>0</th>\n",
       "      <td>New Zealand (Aotearoa)</td>\n",
       "      <td>3778000</td>\n",
       "      <td>2000</td>\n",
       "      <td>Oceania</td>\n",
       "      <td>True</td>\n",
       "    </tr>\n",
       "    <tr>\n",
       "      <th>1</th>\n",
       "      <td>Australia</td>\n",
       "      <td>19138000</td>\n",
       "      <td>2000</td>\n",
       "      <td>Oceania</td>\n",
       "      <td>False</td>\n",
       "    </tr>\n",
       "    <tr>\n",
       "      <th>2</th>\n",
       "      <td>Cook Islands</td>\n",
       "      <td>20000</td>\n",
       "      <td>2000</td>\n",
       "      <td>Oceania</td>\n",
       "      <td>True</td>\n",
       "    </tr>\n",
       "    <tr>\n",
       "      <th>3</th>\n",
       "      <td>Solomon Islands</td>\n",
       "      <td>447000</td>\n",
       "      <td>2000</td>\n",
       "      <td>Oceania</td>\n",
       "      <td>True</td>\n",
       "    </tr>\n",
       "    <tr>\n",
       "      <th>4</th>\n",
       "      <td>New Zealand (Aotearoa)</td>\n",
       "      <td>4433000</td>\n",
       "      <td>2014</td>\n",
       "      <td>Oceania</td>\n",
       "      <td>True</td>\n",
       "    </tr>\n",
       "    <tr>\n",
       "      <th>5</th>\n",
       "      <td>Australia</td>\n",
       "      <td>22680000</td>\n",
       "      <td>2014</td>\n",
       "      <td>Oceania</td>\n",
       "      <td>False</td>\n",
       "    </tr>\n",
       "    <tr>\n",
       "      <th>6</th>\n",
       "      <td>Cook Islands</td>\n",
       "      <td>10900</td>\n",
       "      <td>2014</td>\n",
       "      <td>Oceania</td>\n",
       "      <td>True</td>\n",
       "    </tr>\n",
       "    <tr>\n",
       "      <th>7</th>\n",
       "      <td>Solomon Islands</td>\n",
       "      <td>549598</td>\n",
       "      <td>2014</td>\n",
       "      <td>Oceania</td>\n",
       "      <td>True</td>\n",
       "    </tr>\n",
       "  </tbody>\n",
       "</table>\n",
       "</div>"
      ],
      "text/plain": [
       "                   nation  population  year   region risingSeaLevelRisk\n",
       "0  New Zealand (Aotearoa)     3778000  2000  Oceania               True\n",
       "1               Australia    19138000  2000  Oceania              False\n",
       "2            Cook Islands       20000  2000  Oceania               True\n",
       "3         Solomon Islands      447000  2000  Oceania               True\n",
       "4  New Zealand (Aotearoa)     4433000  2014  Oceania               True\n",
       "5               Australia    22680000  2014  Oceania              False\n",
       "6            Cook Islands       10900  2014  Oceania               True\n",
       "7         Solomon Islands      549598  2014  Oceania               True"
      ]
     },
     "execution_count": 44,
     "metadata": {},
     "output_type": "execute_result"
    }
   ],
   "source": [
    "data['nation'] = data['nation'].str.replace('New Zealand', 'New Zealand (Aotearoa)')\n",
    "data"
   ]
  },
  {
   "cell_type": "markdown",
   "metadata": {},
   "source": [
    "**Exercise**: Write code that changes 'Cook Islands' to 'Cook Islands (NZ Protectorate)'"
   ]
  },
  {
   "cell_type": "code",
   "execution_count": 45,
   "metadata": {
    "collapsed": false
   },
   "outputs": [
    {
     "data": {
      "text/html": [
       "<div>\n",
       "<table border=\"1\" class=\"dataframe\">\n",
       "  <thead>\n",
       "    <tr style=\"text-align: right;\">\n",
       "      <th></th>\n",
       "      <th>nation</th>\n",
       "      <th>population</th>\n",
       "      <th>year</th>\n",
       "      <th>region</th>\n",
       "      <th>risingSeaLevelRisk</th>\n",
       "    </tr>\n",
       "  </thead>\n",
       "  <tbody>\n",
       "    <tr>\n",
       "      <th>0</th>\n",
       "      <td>New Zealand (Aotearoa)</td>\n",
       "      <td>3778000</td>\n",
       "      <td>2000</td>\n",
       "      <td>Oceania</td>\n",
       "      <td>True</td>\n",
       "    </tr>\n",
       "    <tr>\n",
       "      <th>1</th>\n",
       "      <td>Australia</td>\n",
       "      <td>19138000</td>\n",
       "      <td>2000</td>\n",
       "      <td>Oceania</td>\n",
       "      <td>False</td>\n",
       "    </tr>\n",
       "    <tr>\n",
       "      <th>2</th>\n",
       "      <td>Cook Islands (NZ Protectorate)</td>\n",
       "      <td>20000</td>\n",
       "      <td>2000</td>\n",
       "      <td>Oceania</td>\n",
       "      <td>True</td>\n",
       "    </tr>\n",
       "    <tr>\n",
       "      <th>3</th>\n",
       "      <td>Solomon Islands</td>\n",
       "      <td>447000</td>\n",
       "      <td>2000</td>\n",
       "      <td>Oceania</td>\n",
       "      <td>True</td>\n",
       "    </tr>\n",
       "    <tr>\n",
       "      <th>4</th>\n",
       "      <td>New Zealand (Aotearoa)</td>\n",
       "      <td>4433000</td>\n",
       "      <td>2014</td>\n",
       "      <td>Oceania</td>\n",
       "      <td>True</td>\n",
       "    </tr>\n",
       "    <tr>\n",
       "      <th>5</th>\n",
       "      <td>Australia</td>\n",
       "      <td>22680000</td>\n",
       "      <td>2014</td>\n",
       "      <td>Oceania</td>\n",
       "      <td>False</td>\n",
       "    </tr>\n",
       "    <tr>\n",
       "      <th>6</th>\n",
       "      <td>Cook Islands (NZ Protectorate)</td>\n",
       "      <td>10900</td>\n",
       "      <td>2014</td>\n",
       "      <td>Oceania</td>\n",
       "      <td>True</td>\n",
       "    </tr>\n",
       "    <tr>\n",
       "      <th>7</th>\n",
       "      <td>Solomon Islands</td>\n",
       "      <td>549598</td>\n",
       "      <td>2014</td>\n",
       "      <td>Oceania</td>\n",
       "      <td>True</td>\n",
       "    </tr>\n",
       "  </tbody>\n",
       "</table>\n",
       "</div>"
      ],
      "text/plain": [
       "                           nation  population  year   region  \\\n",
       "0          New Zealand (Aotearoa)     3778000  2000  Oceania   \n",
       "1                       Australia    19138000  2000  Oceania   \n",
       "2  Cook Islands (NZ Protectorate)       20000  2000  Oceania   \n",
       "3                 Solomon Islands      447000  2000  Oceania   \n",
       "4          New Zealand (Aotearoa)     4433000  2014  Oceania   \n",
       "5                       Australia    22680000  2014  Oceania   \n",
       "6  Cook Islands (NZ Protectorate)       10900  2014  Oceania   \n",
       "7                 Solomon Islands      549598  2014  Oceania   \n",
       "\n",
       "  risingSeaLevelRisk  \n",
       "0               True  \n",
       "1              False  \n",
       "2               True  \n",
       "3               True  \n",
       "4               True  \n",
       "5              False  \n",
       "6               True  \n",
       "7               True  "
      ]
     },
     "execution_count": 45,
     "metadata": {},
     "output_type": "execute_result"
    }
   ],
   "source": [
    "data['nation'] = data['nation'].str.replace('Cook Islands', 'Cook Islands (NZ Protectorate)')\n",
    "data"
   ]
  },
  {
   "cell_type": "markdown",
   "metadata": {},
   "source": [
    "Its important to note that the Series returned when a DataFrame is indexed is merely a **view** on the DataFrame, and not a copy of the data itself. So you must be cautious when manipulating this data:"
   ]
  },
  {
   "cell_type": "code",
   "execution_count": 46,
   "metadata": {
    "collapsed": false
   },
   "outputs": [
    {
     "data": {
      "text/plain": [
       "0     3778000\n",
       "1    19138000\n",
       "2       20000\n",
       "3      447000\n",
       "4     4433000\n",
       "5    22680000\n",
       "6       10900\n",
       "7      549598\n",
       "Name: population, dtype: int64"
      ]
     },
     "execution_count": 46,
     "metadata": {},
     "output_type": "execute_result"
    }
   ],
   "source": [
    "vals = data.population\n",
    "vals"
   ]
  },
  {
   "cell_type": "code",
   "execution_count": 47,
   "metadata": {
    "collapsed": false
   },
   "outputs": [
    {
     "name": "stderr",
     "output_type": "stream",
     "text": [
      "D:\\WinPython-64bit-2.7.10.3\\python-2.7.10.amd64\\lib\\site-packages\\ipykernel\\__main__.py:1: SettingWithCopyWarning: \n",
      "A value is trying to be set on a copy of a slice from a DataFrame\n",
      "\n",
      "See the caveats in the documentation: http://pandas.pydata.org/pandas-docs/stable/indexing.html#indexing-view-versus-copy\n",
      "  if __name__ == '__main__':\n"
     ]
    },
    {
     "data": {
      "text/plain": [
       "0     3778000\n",
       "1    19138000\n",
       "2       20000\n",
       "3      447000\n",
       "4     4433000\n",
       "5           0\n",
       "6       10900\n",
       "7      549598\n",
       "Name: population, dtype: int64"
      ]
     },
     "execution_count": 47,
     "metadata": {},
     "output_type": "execute_result"
    }
   ],
   "source": [
    "vals[5] = 0\n",
    "vals"
   ]
  },
  {
   "cell_type": "code",
   "execution_count": 48,
   "metadata": {
    "collapsed": false
   },
   "outputs": [
    {
     "data": {
      "text/html": [
       "<div>\n",
       "<table border=\"1\" class=\"dataframe\">\n",
       "  <thead>\n",
       "    <tr style=\"text-align: right;\">\n",
       "      <th></th>\n",
       "      <th>nation</th>\n",
       "      <th>population</th>\n",
       "      <th>year</th>\n",
       "      <th>region</th>\n",
       "      <th>risingSeaLevelRisk</th>\n",
       "    </tr>\n",
       "  </thead>\n",
       "  <tbody>\n",
       "    <tr>\n",
       "      <th>0</th>\n",
       "      <td>New Zealand (Aotearoa)</td>\n",
       "      <td>3778000</td>\n",
       "      <td>2000</td>\n",
       "      <td>Oceania</td>\n",
       "      <td>True</td>\n",
       "    </tr>\n",
       "    <tr>\n",
       "      <th>1</th>\n",
       "      <td>Australia</td>\n",
       "      <td>19138000</td>\n",
       "      <td>2000</td>\n",
       "      <td>Oceania</td>\n",
       "      <td>False</td>\n",
       "    </tr>\n",
       "    <tr>\n",
       "      <th>2</th>\n",
       "      <td>Cook Islands (NZ Protectorate)</td>\n",
       "      <td>20000</td>\n",
       "      <td>2000</td>\n",
       "      <td>Oceania</td>\n",
       "      <td>True</td>\n",
       "    </tr>\n",
       "    <tr>\n",
       "      <th>3</th>\n",
       "      <td>Solomon Islands</td>\n",
       "      <td>447000</td>\n",
       "      <td>2000</td>\n",
       "      <td>Oceania</td>\n",
       "      <td>True</td>\n",
       "    </tr>\n",
       "    <tr>\n",
       "      <th>4</th>\n",
       "      <td>New Zealand (Aotearoa)</td>\n",
       "      <td>4433000</td>\n",
       "      <td>2014</td>\n",
       "      <td>Oceania</td>\n",
       "      <td>True</td>\n",
       "    </tr>\n",
       "    <tr>\n",
       "      <th>5</th>\n",
       "      <td>Australia</td>\n",
       "      <td>0</td>\n",
       "      <td>2014</td>\n",
       "      <td>Oceania</td>\n",
       "      <td>False</td>\n",
       "    </tr>\n",
       "    <tr>\n",
       "      <th>6</th>\n",
       "      <td>Cook Islands (NZ Protectorate)</td>\n",
       "      <td>10900</td>\n",
       "      <td>2014</td>\n",
       "      <td>Oceania</td>\n",
       "      <td>True</td>\n",
       "    </tr>\n",
       "    <tr>\n",
       "      <th>7</th>\n",
       "      <td>Solomon Islands</td>\n",
       "      <td>549598</td>\n",
       "      <td>2014</td>\n",
       "      <td>Oceania</td>\n",
       "      <td>True</td>\n",
       "    </tr>\n",
       "  </tbody>\n",
       "</table>\n",
       "</div>"
      ],
      "text/plain": [
       "                           nation  population  year   region  \\\n",
       "0          New Zealand (Aotearoa)     3778000  2000  Oceania   \n",
       "1                       Australia    19138000  2000  Oceania   \n",
       "2  Cook Islands (NZ Protectorate)       20000  2000  Oceania   \n",
       "3                 Solomon Islands      447000  2000  Oceania   \n",
       "4          New Zealand (Aotearoa)     4433000  2014  Oceania   \n",
       "5                       Australia           0  2014  Oceania   \n",
       "6  Cook Islands (NZ Protectorate)       10900  2014  Oceania   \n",
       "7                 Solomon Islands      549598  2014  Oceania   \n",
       "\n",
       "  risingSeaLevelRisk  \n",
       "0               True  \n",
       "1              False  \n",
       "2               True  \n",
       "3               True  \n",
       "4               True  \n",
       "5              False  \n",
       "6               True  \n",
       "7               True  "
      ]
     },
     "execution_count": 48,
     "metadata": {},
     "output_type": "execute_result"
    }
   ],
   "source": [
    "data"
   ]
  },
  {
   "cell_type": "code",
   "execution_count": 49,
   "metadata": {
    "collapsed": false
   },
   "outputs": [
    {
     "data": {
      "text/html": [
       "<div>\n",
       "<table border=\"1\" class=\"dataframe\">\n",
       "  <thead>\n",
       "    <tr style=\"text-align: right;\">\n",
       "      <th></th>\n",
       "      <th>nation</th>\n",
       "      <th>population</th>\n",
       "      <th>year</th>\n",
       "      <th>region</th>\n",
       "      <th>risingSeaLevelRisk</th>\n",
       "    </tr>\n",
       "  </thead>\n",
       "  <tbody>\n",
       "    <tr>\n",
       "      <th>0</th>\n",
       "      <td>New Zealand (Aotearoa)</td>\n",
       "      <td>3778000</td>\n",
       "      <td>2000</td>\n",
       "      <td>Oceania</td>\n",
       "      <td>True</td>\n",
       "    </tr>\n",
       "    <tr>\n",
       "      <th>1</th>\n",
       "      <td>Australia</td>\n",
       "      <td>19138000</td>\n",
       "      <td>2000</td>\n",
       "      <td>Oceania</td>\n",
       "      <td>False</td>\n",
       "    </tr>\n",
       "    <tr>\n",
       "      <th>2</th>\n",
       "      <td>Cook Islands (NZ Protectorate)</td>\n",
       "      <td>20000</td>\n",
       "      <td>2000</td>\n",
       "      <td>Oceania</td>\n",
       "      <td>True</td>\n",
       "    </tr>\n",
       "    <tr>\n",
       "      <th>3</th>\n",
       "      <td>Solomon Islands</td>\n",
       "      <td>447000</td>\n",
       "      <td>2000</td>\n",
       "      <td>Oceania</td>\n",
       "      <td>True</td>\n",
       "    </tr>\n",
       "    <tr>\n",
       "      <th>4</th>\n",
       "      <td>New Zealand (Aotearoa)</td>\n",
       "      <td>4433000</td>\n",
       "      <td>2014</td>\n",
       "      <td>Oceania</td>\n",
       "      <td>True</td>\n",
       "    </tr>\n",
       "    <tr>\n",
       "      <th>5</th>\n",
       "      <td>Australia</td>\n",
       "      <td>0</td>\n",
       "      <td>2014</td>\n",
       "      <td>Oceania</td>\n",
       "      <td>False</td>\n",
       "    </tr>\n",
       "    <tr>\n",
       "      <th>6</th>\n",
       "      <td>Cook Islands (NZ Protectorate)</td>\n",
       "      <td>10900</td>\n",
       "      <td>2014</td>\n",
       "      <td>Oceania</td>\n",
       "      <td>True</td>\n",
       "    </tr>\n",
       "    <tr>\n",
       "      <th>7</th>\n",
       "      <td>Solomon Islands</td>\n",
       "      <td>549598</td>\n",
       "      <td>2014</td>\n",
       "      <td>Oceania</td>\n",
       "      <td>True</td>\n",
       "    </tr>\n",
       "  </tbody>\n",
       "</table>\n",
       "</div>"
      ],
      "text/plain": [
       "                           nation  population  year   region  \\\n",
       "0          New Zealand (Aotearoa)     3778000  2000  Oceania   \n",
       "1                       Australia    19138000  2000  Oceania   \n",
       "2  Cook Islands (NZ Protectorate)       20000  2000  Oceania   \n",
       "3                 Solomon Islands      447000  2000  Oceania   \n",
       "4          New Zealand (Aotearoa)     4433000  2014  Oceania   \n",
       "5                       Australia           0  2014  Oceania   \n",
       "6  Cook Islands (NZ Protectorate)       10900  2014  Oceania   \n",
       "7                 Solomon Islands      549598  2014  Oceania   \n",
       "\n",
       "  risingSeaLevelRisk  \n",
       "0               True  \n",
       "1              False  \n",
       "2               True  \n",
       "3               True  \n",
       "4               True  \n",
       "5              False  \n",
       "6               True  \n",
       "7               True  "
      ]
     },
     "execution_count": 49,
     "metadata": {},
     "output_type": "execute_result"
    }
   ],
   "source": [
    "vals = data.population.copy()\n",
    "vals[5] = 1000\n",
    "data"
   ]
  },
  {
   "cell_type": "markdown",
   "metadata": {},
   "source": [
    "We can create or modify columns by assignment:"
   ]
  },
  {
   "cell_type": "code",
   "execution_count": 50,
   "metadata": {
    "collapsed": false
   },
   "outputs": [
    {
     "name": "stderr",
     "output_type": "stream",
     "text": [
      "D:\\WinPython-64bit-2.7.10.3\\python-2.7.10.amd64\\lib\\site-packages\\ipykernel\\__main__.py:1: SettingWithCopyWarning: \n",
      "A value is trying to be set on a copy of a slice from a DataFrame\n",
      "\n",
      "See the caveats in the documentation: http://pandas.pydata.org/pandas-docs/stable/indexing.html#indexing-view-versus-copy\n",
      "  if __name__ == '__main__':\n"
     ]
    },
    {
     "data": {
      "text/html": [
       "<div>\n",
       "<table border=\"1\" class=\"dataframe\">\n",
       "  <thead>\n",
       "    <tr style=\"text-align: right;\">\n",
       "      <th></th>\n",
       "      <th>nation</th>\n",
       "      <th>population</th>\n",
       "      <th>year</th>\n",
       "      <th>region</th>\n",
       "      <th>risingSeaLevelRisk</th>\n",
       "    </tr>\n",
       "  </thead>\n",
       "  <tbody>\n",
       "    <tr>\n",
       "      <th>0</th>\n",
       "      <td>New Zealand (Aotearoa)</td>\n",
       "      <td>3778000</td>\n",
       "      <td>2000</td>\n",
       "      <td>Oceania</td>\n",
       "      <td>True</td>\n",
       "    </tr>\n",
       "    <tr>\n",
       "      <th>1</th>\n",
       "      <td>Australia</td>\n",
       "      <td>19138000</td>\n",
       "      <td>2000</td>\n",
       "      <td>Oceania</td>\n",
       "      <td>False</td>\n",
       "    </tr>\n",
       "    <tr>\n",
       "      <th>2</th>\n",
       "      <td>Cook Islands (NZ Protectorate)</td>\n",
       "      <td>20000</td>\n",
       "      <td>2000</td>\n",
       "      <td>Oceania</td>\n",
       "      <td>True</td>\n",
       "    </tr>\n",
       "    <tr>\n",
       "      <th>3</th>\n",
       "      <td>Solomon Islands</td>\n",
       "      <td>1</td>\n",
       "      <td>2000</td>\n",
       "      <td>Oceania</td>\n",
       "      <td>True</td>\n",
       "    </tr>\n",
       "    <tr>\n",
       "      <th>4</th>\n",
       "      <td>New Zealand (Aotearoa)</td>\n",
       "      <td>4433000</td>\n",
       "      <td>2014</td>\n",
       "      <td>Oceania</td>\n",
       "      <td>True</td>\n",
       "    </tr>\n",
       "    <tr>\n",
       "      <th>5</th>\n",
       "      <td>Australia</td>\n",
       "      <td>0</td>\n",
       "      <td>2014</td>\n",
       "      <td>Oceania</td>\n",
       "      <td>False</td>\n",
       "    </tr>\n",
       "    <tr>\n",
       "      <th>6</th>\n",
       "      <td>Cook Islands (NZ Protectorate)</td>\n",
       "      <td>10900</td>\n",
       "      <td>2014</td>\n",
       "      <td>Oceania</td>\n",
       "      <td>True</td>\n",
       "    </tr>\n",
       "    <tr>\n",
       "      <th>7</th>\n",
       "      <td>Solomon Islands</td>\n",
       "      <td>549598</td>\n",
       "      <td>2014</td>\n",
       "      <td>Oceania</td>\n",
       "      <td>True</td>\n",
       "    </tr>\n",
       "  </tbody>\n",
       "</table>\n",
       "</div>"
      ],
      "text/plain": [
       "                           nation  population  year   region  \\\n",
       "0          New Zealand (Aotearoa)     3778000  2000  Oceania   \n",
       "1                       Australia    19138000  2000  Oceania   \n",
       "2  Cook Islands (NZ Protectorate)       20000  2000  Oceania   \n",
       "3                 Solomon Islands           1  2000  Oceania   \n",
       "4          New Zealand (Aotearoa)     4433000  2014  Oceania   \n",
       "5                       Australia           0  2014  Oceania   \n",
       "6  Cook Islands (NZ Protectorate)       10900  2014  Oceania   \n",
       "7                 Solomon Islands      549598  2014  Oceania   \n",
       "\n",
       "  risingSeaLevelRisk  \n",
       "0               True  \n",
       "1              False  \n",
       "2               True  \n",
       "3               True  \n",
       "4               True  \n",
       "5              False  \n",
       "6               True  \n",
       "7               True  "
      ]
     },
     "execution_count": 50,
     "metadata": {},
     "output_type": "execute_result"
    }
   ],
   "source": [
    "data.population[3] = 1\n",
    "data"
   ]
  },
  {
   "cell_type": "code",
   "execution_count": 51,
   "metadata": {
    "collapsed": false
   },
   "outputs": [
    {
     "name": "stderr",
     "output_type": "stream",
     "text": [
      "D:\\WinPython-64bit-2.7.10.3\\python-2.7.10.amd64\\lib\\site-packages\\ipykernel\\__main__.py:1: SettingWithCopyWarning: \n",
      "A value is trying to be set on a copy of a slice from a DataFrame\n",
      "\n",
      "See the caveats in the documentation: http://pandas.pydata.org/pandas-docs/stable/indexing.html#indexing-view-versus-copy\n",
      "  if __name__ == '__main__':\n"
     ]
    },
    {
     "data": {
      "text/html": [
       "<div>\n",
       "<table border=\"1\" class=\"dataframe\">\n",
       "  <thead>\n",
       "    <tr style=\"text-align: right;\">\n",
       "      <th></th>\n",
       "      <th>nation</th>\n",
       "      <th>population</th>\n",
       "      <th>year</th>\n",
       "      <th>region</th>\n",
       "      <th>risingSeaLevelRisk</th>\n",
       "    </tr>\n",
       "  </thead>\n",
       "  <tbody>\n",
       "    <tr>\n",
       "      <th>0</th>\n",
       "      <td>New Zealand (Aotearoa)</td>\n",
       "      <td>3778000</td>\n",
       "      <td>2000</td>\n",
       "      <td>Oceania</td>\n",
       "      <td>True</td>\n",
       "    </tr>\n",
       "    <tr>\n",
       "      <th>1</th>\n",
       "      <td>Australia</td>\n",
       "      <td>19138000</td>\n",
       "      <td>2000</td>\n",
       "      <td>Oceania</td>\n",
       "      <td>False</td>\n",
       "    </tr>\n",
       "    <tr>\n",
       "      <th>2</th>\n",
       "      <td>Cook Islands (NZ Protectorate)</td>\n",
       "      <td>20000</td>\n",
       "      <td>2000</td>\n",
       "      <td>Oceania</td>\n",
       "      <td>True</td>\n",
       "    </tr>\n",
       "    <tr>\n",
       "      <th>3</th>\n",
       "      <td>Solomon Islands</td>\n",
       "      <td>447000</td>\n",
       "      <td>2000</td>\n",
       "      <td>Oceania</td>\n",
       "      <td>True</td>\n",
       "    </tr>\n",
       "    <tr>\n",
       "      <th>4</th>\n",
       "      <td>New Zealand (Aotearoa)</td>\n",
       "      <td>4433000</td>\n",
       "      <td>2014</td>\n",
       "      <td>Oceania</td>\n",
       "      <td>True</td>\n",
       "    </tr>\n",
       "    <tr>\n",
       "      <th>5</th>\n",
       "      <td>Australia</td>\n",
       "      <td>0</td>\n",
       "      <td>2014</td>\n",
       "      <td>Oceania</td>\n",
       "      <td>False</td>\n",
       "    </tr>\n",
       "    <tr>\n",
       "      <th>6</th>\n",
       "      <td>Cook Islands (NZ Protectorate)</td>\n",
       "      <td>10900</td>\n",
       "      <td>2014</td>\n",
       "      <td>Oceania</td>\n",
       "      <td>True</td>\n",
       "    </tr>\n",
       "    <tr>\n",
       "      <th>7</th>\n",
       "      <td>Solomon Islands</td>\n",
       "      <td>549598</td>\n",
       "      <td>2014</td>\n",
       "      <td>Oceania</td>\n",
       "      <td>True</td>\n",
       "    </tr>\n",
       "  </tbody>\n",
       "</table>\n",
       "</div>"
      ],
      "text/plain": [
       "                           nation  population  year   region  \\\n",
       "0          New Zealand (Aotearoa)     3778000  2000  Oceania   \n",
       "1                       Australia    19138000  2000  Oceania   \n",
       "2  Cook Islands (NZ Protectorate)       20000  2000  Oceania   \n",
       "3                 Solomon Islands      447000  2000  Oceania   \n",
       "4          New Zealand (Aotearoa)     4433000  2014  Oceania   \n",
       "5                       Australia           0  2014  Oceania   \n",
       "6  Cook Islands (NZ Protectorate)       10900  2014  Oceania   \n",
       "7                 Solomon Islands      549598  2014  Oceania   \n",
       "\n",
       "  risingSeaLevelRisk  \n",
       "0               True  \n",
       "1              False  \n",
       "2               True  \n",
       "3               True  \n",
       "4               True  \n",
       "5              False  \n",
       "6               True  \n",
       "7               True  "
      ]
     },
     "execution_count": 51,
     "metadata": {},
     "output_type": "execute_result"
    }
   ],
   "source": [
    "data.population[3] = 447000\n",
    "data"
   ]
  },
  {
   "cell_type": "markdown",
   "metadata": {},
   "source": [
    "### Deleting rows (records) based on conditions"
   ]
  },
  {
   "cell_type": "markdown",
   "metadata": {},
   "source": [
    "Previous examples demonstrated how to remove entire columns from a data frame and how to modify individual data points in records. \n",
    "\n",
    "Frequently we would like to remove select rows that meet a given requirement.\n",
    "\n",
    "In the below example we will delete all rows where the value of population is bellow 1 million. \n",
    "\n",
    "There are 2 steps we must perform in order to do this. We first identify all the rows that we want removed and create another data frame from this where the index value is preserved."
   ]
  },
  {
   "cell_type": "code",
   "execution_count": 52,
   "metadata": {
    "collapsed": false
   },
   "outputs": [
    {
     "data": {
      "text/html": [
       "<div>\n",
       "<table border=\"1\" class=\"dataframe\">\n",
       "  <thead>\n",
       "    <tr style=\"text-align: right;\">\n",
       "      <th></th>\n",
       "      <th>nation</th>\n",
       "      <th>population</th>\n",
       "      <th>year</th>\n",
       "      <th>region</th>\n",
       "      <th>risingSeaLevelRisk</th>\n",
       "    </tr>\n",
       "  </thead>\n",
       "  <tbody>\n",
       "    <tr>\n",
       "      <th>2</th>\n",
       "      <td>Cook Islands (NZ Protectorate)</td>\n",
       "      <td>20000</td>\n",
       "      <td>2000</td>\n",
       "      <td>Oceania</td>\n",
       "      <td>True</td>\n",
       "    </tr>\n",
       "    <tr>\n",
       "      <th>3</th>\n",
       "      <td>Solomon Islands</td>\n",
       "      <td>447000</td>\n",
       "      <td>2000</td>\n",
       "      <td>Oceania</td>\n",
       "      <td>True</td>\n",
       "    </tr>\n",
       "    <tr>\n",
       "      <th>5</th>\n",
       "      <td>Australia</td>\n",
       "      <td>0</td>\n",
       "      <td>2014</td>\n",
       "      <td>Oceania</td>\n",
       "      <td>False</td>\n",
       "    </tr>\n",
       "    <tr>\n",
       "      <th>6</th>\n",
       "      <td>Cook Islands (NZ Protectorate)</td>\n",
       "      <td>10900</td>\n",
       "      <td>2014</td>\n",
       "      <td>Oceania</td>\n",
       "      <td>True</td>\n",
       "    </tr>\n",
       "    <tr>\n",
       "      <th>7</th>\n",
       "      <td>Solomon Islands</td>\n",
       "      <td>549598</td>\n",
       "      <td>2014</td>\n",
       "      <td>Oceania</td>\n",
       "      <td>True</td>\n",
       "    </tr>\n",
       "  </tbody>\n",
       "</table>\n",
       "</div>"
      ],
      "text/plain": [
       "                           nation  population  year   region  \\\n",
       "2  Cook Islands (NZ Protectorate)       20000  2000  Oceania   \n",
       "3                 Solomon Islands      447000  2000  Oceania   \n",
       "5                       Australia           0  2014  Oceania   \n",
       "6  Cook Islands (NZ Protectorate)       10900  2014  Oceania   \n",
       "7                 Solomon Islands      549598  2014  Oceania   \n",
       "\n",
       "  risingSeaLevelRisk  \n",
       "2               True  \n",
       "3               True  \n",
       "5              False  \n",
       "6               True  \n",
       "7               True  "
      ]
     },
     "execution_count": 52,
     "metadata": {},
     "output_type": "execute_result"
    }
   ],
   "source": [
    "indexOfRowsToDrop = data[data.population < 1000000]\n",
    "indexOfRowsToDrop"
   ]
  },
  {
   "cell_type": "markdown",
   "metadata": {},
   "source": [
    "Next, we call the *drop()* method on the target data frame. The drop method requires a list of indices that need to be dropped form a data frame. We additionally indicate that the drop procedure should permanently delete the data by specifying inplace=True. "
   ]
  },
  {
   "cell_type": "code",
   "execution_count": 70,
   "metadata": {
    "collapsed": false
   },
   "outputs": [
    {
     "data": {
      "text/plain": [
       "Int64Index([2, 3, 5, 6, 7], dtype='int64')"
      ]
     },
     "execution_count": 70,
     "metadata": {},
     "output_type": "execute_result"
    }
   ],
   "source": [
    "data.drop(indexOfRowsToDrop.index, inplace=False)\n",
    "indexOfRowsToDrop.index"
   ]
  },
  {
   "cell_type": "code",
   "execution_count": 54,
   "metadata": {
    "collapsed": false
   },
   "outputs": [
    {
     "data": {
      "text/html": [
       "<div>\n",
       "<table border=\"1\" class=\"dataframe\">\n",
       "  <thead>\n",
       "    <tr style=\"text-align: right;\">\n",
       "      <th></th>\n",
       "      <th>nation</th>\n",
       "      <th>population</th>\n",
       "      <th>year</th>\n",
       "      <th>region</th>\n",
       "      <th>risingSeaLevelRisk</th>\n",
       "    </tr>\n",
       "  </thead>\n",
       "  <tbody>\n",
       "    <tr>\n",
       "      <th>2</th>\n",
       "      <td>Cook Islands (NZ Protectorate)</td>\n",
       "      <td>20000</td>\n",
       "      <td>2000</td>\n",
       "      <td>Oceania</td>\n",
       "      <td>True</td>\n",
       "    </tr>\n",
       "    <tr>\n",
       "      <th>3</th>\n",
       "      <td>Solomon Islands</td>\n",
       "      <td>447000</td>\n",
       "      <td>2000</td>\n",
       "      <td>Oceania</td>\n",
       "      <td>True</td>\n",
       "    </tr>\n",
       "    <tr>\n",
       "      <th>5</th>\n",
       "      <td>Australia</td>\n",
       "      <td>0</td>\n",
       "      <td>2014</td>\n",
       "      <td>Oceania</td>\n",
       "      <td>False</td>\n",
       "    </tr>\n",
       "    <tr>\n",
       "      <th>6</th>\n",
       "      <td>Cook Islands (NZ Protectorate)</td>\n",
       "      <td>10900</td>\n",
       "      <td>2014</td>\n",
       "      <td>Oceania</td>\n",
       "      <td>True</td>\n",
       "    </tr>\n",
       "    <tr>\n",
       "      <th>7</th>\n",
       "      <td>Solomon Islands</td>\n",
       "      <td>549598</td>\n",
       "      <td>2014</td>\n",
       "      <td>Oceania</td>\n",
       "      <td>True</td>\n",
       "    </tr>\n",
       "  </tbody>\n",
       "</table>\n",
       "</div>"
      ],
      "text/plain": [
       "                           nation  population  year   region  \\\n",
       "2  Cook Islands (NZ Protectorate)       20000  2000  Oceania   \n",
       "3                 Solomon Islands      447000  2000  Oceania   \n",
       "5                       Australia           0  2014  Oceania   \n",
       "6  Cook Islands (NZ Protectorate)       10900  2014  Oceania   \n",
       "7                 Solomon Islands      549598  2014  Oceania   \n",
       "\n",
       "  risingSeaLevelRisk  \n",
       "2               True  \n",
       "3               True  \n",
       "5              False  \n",
       "6               True  \n",
       "7               True  "
      ]
     },
     "execution_count": 54,
     "metadata": {},
     "output_type": "execute_result"
    }
   ],
   "source": [
    "data = data[ data.population < 1000000]\n",
    "data"
   ]
  },
  {
   "cell_type": "code",
   "execution_count": 55,
   "metadata": {
    "collapsed": false
   },
   "outputs": [
    {
     "data": {
      "text/html": [
       "<div>\n",
       "<table border=\"1\" class=\"dataframe\">\n",
       "  <thead>\n",
       "    <tr style=\"text-align: right;\">\n",
       "      <th></th>\n",
       "      <th>nation</th>\n",
       "      <th>population</th>\n",
       "      <th>year</th>\n",
       "      <th>region</th>\n",
       "      <th>risingSeaLevelRisk</th>\n",
       "    </tr>\n",
       "  </thead>\n",
       "  <tbody>\n",
       "    <tr>\n",
       "      <th>2</th>\n",
       "      <td>Cook Islands (NZ Protectorate)</td>\n",
       "      <td>20000</td>\n",
       "      <td>2000</td>\n",
       "      <td>Oceania</td>\n",
       "      <td>True</td>\n",
       "    </tr>\n",
       "    <tr>\n",
       "      <th>3</th>\n",
       "      <td>Solomon Islands</td>\n",
       "      <td>447000</td>\n",
       "      <td>2000</td>\n",
       "      <td>Oceania</td>\n",
       "      <td>True</td>\n",
       "    </tr>\n",
       "    <tr>\n",
       "      <th>5</th>\n",
       "      <td>Australia</td>\n",
       "      <td>0</td>\n",
       "      <td>2014</td>\n",
       "      <td>Oceania</td>\n",
       "      <td>False</td>\n",
       "    </tr>\n",
       "    <tr>\n",
       "      <th>6</th>\n",
       "      <td>Cook Islands (NZ Protectorate)</td>\n",
       "      <td>10900</td>\n",
       "      <td>2014</td>\n",
       "      <td>Oceania</td>\n",
       "      <td>True</td>\n",
       "    </tr>\n",
       "    <tr>\n",
       "      <th>7</th>\n",
       "      <td>Solomon Islands</td>\n",
       "      <td>549598</td>\n",
       "      <td>2014</td>\n",
       "      <td>Oceania</td>\n",
       "      <td>True</td>\n",
       "    </tr>\n",
       "  </tbody>\n",
       "</table>\n",
       "</div>"
      ],
      "text/plain": [
       "                           nation  population  year   region  \\\n",
       "2  Cook Islands (NZ Protectorate)       20000  2000  Oceania   \n",
       "3                 Solomon Islands      447000  2000  Oceania   \n",
       "5                       Australia           0  2014  Oceania   \n",
       "6  Cook Islands (NZ Protectorate)       10900  2014  Oceania   \n",
       "7                 Solomon Islands      549598  2014  Oceania   \n",
       "\n",
       "  risingSeaLevelRisk  \n",
       "2               True  \n",
       "3               True  \n",
       "5              False  \n",
       "6               True  \n",
       "7               True  "
      ]
     },
     "execution_count": 55,
     "metadata": {},
     "output_type": "execute_result"
    }
   ],
   "source": [
    "data"
   ]
  },
  {
   "cell_type": "markdown",
   "metadata": {},
   "source": [
    "**Exercise**: Write code that deletes all records that are from year 2014 and have population greater than 4 million."
   ]
  },
  {
   "cell_type": "code",
   "execution_count": 56,
   "metadata": {
    "collapsed": false
   },
   "outputs": [
    {
     "data": {
      "text/html": [
       "<div>\n",
       "<table border=\"1\" class=\"dataframe\">\n",
       "  <thead>\n",
       "    <tr style=\"text-align: right;\">\n",
       "      <th></th>\n",
       "      <th>nation</th>\n",
       "      <th>population</th>\n",
       "      <th>year</th>\n",
       "      <th>region</th>\n",
       "      <th>risingSeaLevelRisk</th>\n",
       "    </tr>\n",
       "  </thead>\n",
       "  <tbody>\n",
       "    <tr>\n",
       "      <th>2</th>\n",
       "      <td>Cook Islands (NZ Protectorate)</td>\n",
       "      <td>20000</td>\n",
       "      <td>2000</td>\n",
       "      <td>Oceania</td>\n",
       "      <td>True</td>\n",
       "    </tr>\n",
       "    <tr>\n",
       "      <th>3</th>\n",
       "      <td>Solomon Islands</td>\n",
       "      <td>447000</td>\n",
       "      <td>2000</td>\n",
       "      <td>Oceania</td>\n",
       "      <td>True</td>\n",
       "    </tr>\n",
       "    <tr>\n",
       "      <th>5</th>\n",
       "      <td>Australia</td>\n",
       "      <td>0</td>\n",
       "      <td>2014</td>\n",
       "      <td>Oceania</td>\n",
       "      <td>False</td>\n",
       "    </tr>\n",
       "    <tr>\n",
       "      <th>6</th>\n",
       "      <td>Cook Islands (NZ Protectorate)</td>\n",
       "      <td>10900</td>\n",
       "      <td>2014</td>\n",
       "      <td>Oceania</td>\n",
       "      <td>True</td>\n",
       "    </tr>\n",
       "    <tr>\n",
       "      <th>7</th>\n",
       "      <td>Solomon Islands</td>\n",
       "      <td>549598</td>\n",
       "      <td>2014</td>\n",
       "      <td>Oceania</td>\n",
       "      <td>True</td>\n",
       "    </tr>\n",
       "  </tbody>\n",
       "</table>\n",
       "</div>"
      ],
      "text/plain": [
       "                           nation  population  year   region  \\\n",
       "2  Cook Islands (NZ Protectorate)       20000  2000  Oceania   \n",
       "3                 Solomon Islands      447000  2000  Oceania   \n",
       "5                       Australia           0  2014  Oceania   \n",
       "6  Cook Islands (NZ Protectorate)       10900  2014  Oceania   \n",
       "7                 Solomon Islands      549598  2014  Oceania   \n",
       "\n",
       "  risingSeaLevelRisk  \n",
       "2               True  \n",
       "3               True  \n",
       "5              False  \n",
       "6               True  \n",
       "7               True  "
      ]
     },
     "execution_count": 56,
     "metadata": {},
     "output_type": "execute_result"
    }
   ],
   "source": [
    "data.drop(data[ (data.population > 4000000) & (data.year == 2014)  ].index)"
   ]
  },
  {
   "cell_type": "markdown",
   "metadata": {},
   "source": [
    "### Adding new rows/records"
   ]
  },
  {
   "cell_type": "markdown",
   "metadata": {},
   "source": [
    "Appending new rows (records) in order to achieve enlargement of a data frame can be accomplished using the *.ix[]* (or .loc[]) attribute seen earlier, followed by the square brackets which specify the location of the insertion."
   ]
  },
  {
   "cell_type": "code",
   "execution_count": 57,
   "metadata": {
    "collapsed": false
   },
   "outputs": [
    {
     "data": {
      "text/html": [
       "<div>\n",
       "<table border=\"1\" class=\"dataframe\">\n",
       "  <thead>\n",
       "    <tr style=\"text-align: right;\">\n",
       "      <th></th>\n",
       "      <th>nation</th>\n",
       "      <th>population</th>\n",
       "      <th>year</th>\n",
       "      <th>region</th>\n",
       "      <th>risingSeaLevelRisk</th>\n",
       "    </tr>\n",
       "  </thead>\n",
       "  <tbody>\n",
       "    <tr>\n",
       "      <th>2</th>\n",
       "      <td>Cook Islands (NZ Protectorate)</td>\n",
       "      <td>20000</td>\n",
       "      <td>2000</td>\n",
       "      <td>Oceania</td>\n",
       "      <td>True</td>\n",
       "    </tr>\n",
       "    <tr>\n",
       "      <th>3</th>\n",
       "      <td>Solomon Islands</td>\n",
       "      <td>447000</td>\n",
       "      <td>2000</td>\n",
       "      <td>Oceania</td>\n",
       "      <td>True</td>\n",
       "    </tr>\n",
       "    <tr>\n",
       "      <th>5</th>\n",
       "      <td>Australia</td>\n",
       "      <td>0</td>\n",
       "      <td>2014</td>\n",
       "      <td>Oceania</td>\n",
       "      <td>False</td>\n",
       "    </tr>\n",
       "    <tr>\n",
       "      <th>6</th>\n",
       "      <td>Cook Islands (NZ Protectorate)</td>\n",
       "      <td>10900</td>\n",
       "      <td>2014</td>\n",
       "      <td>Oceania</td>\n",
       "      <td>True</td>\n",
       "    </tr>\n",
       "    <tr>\n",
       "      <th>7</th>\n",
       "      <td>Solomon Islands</td>\n",
       "      <td>549598</td>\n",
       "      <td>2014</td>\n",
       "      <td>Oceania</td>\n",
       "      <td>True</td>\n",
       "    </tr>\n",
       "  </tbody>\n",
       "</table>\n",
       "</div>"
      ],
      "text/plain": [
       "                           nation  population  year   region  \\\n",
       "2  Cook Islands (NZ Protectorate)       20000  2000  Oceania   \n",
       "3                 Solomon Islands      447000  2000  Oceania   \n",
       "5                       Australia           0  2014  Oceania   \n",
       "6  Cook Islands (NZ Protectorate)       10900  2014  Oceania   \n",
       "7                 Solomon Islands      549598  2014  Oceania   \n",
       "\n",
       "  risingSeaLevelRisk  \n",
       "2               True  \n",
       "3               True  \n",
       "5              False  \n",
       "6               True  \n",
       "7               True  "
      ]
     },
     "execution_count": 57,
     "metadata": {},
     "output_type": "execute_result"
    }
   ],
   "source": [
    "data"
   ]
  },
  {
   "cell_type": "code",
   "execution_count": 68,
   "metadata": {
    "collapsed": false
   },
   "outputs": [
    {
     "data": {
      "text/html": [
       "<div>\n",
       "<table border=\"1\" class=\"dataframe\">\n",
       "  <thead>\n",
       "    <tr style=\"text-align: right;\">\n",
       "      <th></th>\n",
       "      <th>nation</th>\n",
       "      <th>population</th>\n",
       "      <th>year</th>\n",
       "      <th>region</th>\n",
       "      <th>risingSeaLevelRisk</th>\n",
       "    </tr>\n",
       "  </thead>\n",
       "  <tbody>\n",
       "    <tr>\n",
       "      <th>2</th>\n",
       "      <td>Cook Islands (NZ Protectorate)</td>\n",
       "      <td>20000</td>\n",
       "      <td>2000</td>\n",
       "      <td>Oceania</td>\n",
       "      <td>True</td>\n",
       "    </tr>\n",
       "    <tr>\n",
       "      <th>3</th>\n",
       "      <td>Solomon Islands</td>\n",
       "      <td>447000</td>\n",
       "      <td>2000</td>\n",
       "      <td>Oceania</td>\n",
       "      <td>True</td>\n",
       "    </tr>\n",
       "    <tr>\n",
       "      <th>5</th>\n",
       "      <td>Australia</td>\n",
       "      <td>0</td>\n",
       "      <td>2014</td>\n",
       "      <td>Oceania</td>\n",
       "      <td>False</td>\n",
       "    </tr>\n",
       "    <tr>\n",
       "      <th>6</th>\n",
       "      <td>Cook Islands (NZ Protectorate)</td>\n",
       "      <td>10900</td>\n",
       "      <td>2014</td>\n",
       "      <td>Oceania</td>\n",
       "      <td>True</td>\n",
       "    </tr>\n",
       "    <tr>\n",
       "      <th>7</th>\n",
       "      <td>Solomon Islands</td>\n",
       "      <td>549598</td>\n",
       "      <td>2014</td>\n",
       "      <td>Oceania</td>\n",
       "      <td>True</td>\n",
       "    </tr>\n",
       "    <tr>\n",
       "      <th>8</th>\n",
       "      <td>Germany</td>\n",
       "      <td>85000000</td>\n",
       "      <td>2014</td>\n",
       "      <td>Europe</td>\n",
       "      <td>False</td>\n",
       "    </tr>\n",
       "    <tr>\n",
       "      <th>10</th>\n",
       "      <td>Germany</td>\n",
       "      <td>85000000</td>\n",
       "      <td>2014</td>\n",
       "      <td>Europe</td>\n",
       "      <td>False</td>\n",
       "    </tr>\n",
       "    <tr>\n",
       "      <th>9</th>\n",
       "      <td>France</td>\n",
       "      <td>66000000</td>\n",
       "      <td>2014</td>\n",
       "      <td>Europe</td>\n",
       "      <td>False</td>\n",
       "    </tr>\n",
       "  </tbody>\n",
       "</table>\n",
       "</div>"
      ],
      "text/plain": [
       "                            nation  population  year   region  \\\n",
       "2   Cook Islands (NZ Protectorate)       20000  2000  Oceania   \n",
       "3                  Solomon Islands      447000  2000  Oceania   \n",
       "5                        Australia           0  2014  Oceania   \n",
       "6   Cook Islands (NZ Protectorate)       10900  2014  Oceania   \n",
       "7                  Solomon Islands      549598  2014  Oceania   \n",
       "8                          Germany    85000000  2014   Europe   \n",
       "10                         Germany    85000000  2014   Europe   \n",
       "9                           France    66000000  2014   Europe   \n",
       "\n",
       "   risingSeaLevelRisk  \n",
       "2                True  \n",
       "3                True  \n",
       "5               False  \n",
       "6                True  \n",
       "7                True  \n",
       "8               False  \n",
       "10              False  \n",
       "9               False  "
      ]
     },
     "execution_count": 68,
     "metadata": {},
     "output_type": "execute_result"
    }
   ],
   "source": [
    "data.ix[8] = [\"Germany\", 85000000, 2014, 'Europe', False]\n",
    "data"
   ]
  },
  {
   "cell_type": "code",
   "execution_count": 59,
   "metadata": {
    "collapsed": false
   },
   "outputs": [
    {
     "name": "stderr",
     "output_type": "stream",
     "text": [
      "D:\\WinPython-64bit-2.7.10.3\\python-2.7.10.amd64\\lib\\site-packages\\ipykernel\\__main__.py:1: SettingWithCopyWarning: \n",
      "A value is trying to be set on a copy of a slice from a DataFrame\n",
      "\n",
      "See the caveats in the documentation: http://pandas.pydata.org/pandas-docs/stable/indexing.html#indexing-view-versus-copy\n",
      "  if __name__ == '__main__':\n"
     ]
    },
    {
     "data": {
      "text/html": [
       "<div>\n",
       "<table border=\"1\" class=\"dataframe\">\n",
       "  <thead>\n",
       "    <tr style=\"text-align: right;\">\n",
       "      <th></th>\n",
       "      <th>nation</th>\n",
       "      <th>population</th>\n",
       "      <th>year</th>\n",
       "      <th>region</th>\n",
       "      <th>risingSeaLevelRisk</th>\n",
       "    </tr>\n",
       "  </thead>\n",
       "  <tbody>\n",
       "    <tr>\n",
       "      <th>2</th>\n",
       "      <td>Cook Islands (NZ Protectorate)</td>\n",
       "      <td>20000</td>\n",
       "      <td>2000</td>\n",
       "      <td>Oceania</td>\n",
       "      <td>True</td>\n",
       "    </tr>\n",
       "    <tr>\n",
       "      <th>3</th>\n",
       "      <td>Solomon Islands</td>\n",
       "      <td>447000</td>\n",
       "      <td>2000</td>\n",
       "      <td>Oceania</td>\n",
       "      <td>True</td>\n",
       "    </tr>\n",
       "    <tr>\n",
       "      <th>5</th>\n",
       "      <td>Australia</td>\n",
       "      <td>0</td>\n",
       "      <td>2014</td>\n",
       "      <td>Oceania</td>\n",
       "      <td>False</td>\n",
       "    </tr>\n",
       "    <tr>\n",
       "      <th>6</th>\n",
       "      <td>Cook Islands (NZ Protectorate)</td>\n",
       "      <td>10900</td>\n",
       "      <td>2014</td>\n",
       "      <td>Oceania</td>\n",
       "      <td>True</td>\n",
       "    </tr>\n",
       "    <tr>\n",
       "      <th>7</th>\n",
       "      <td>Solomon Islands</td>\n",
       "      <td>549598</td>\n",
       "      <td>2014</td>\n",
       "      <td>Oceania</td>\n",
       "      <td>True</td>\n",
       "    </tr>\n",
       "    <tr>\n",
       "      <th>8</th>\n",
       "      <td>Germany</td>\n",
       "      <td>85000000</td>\n",
       "      <td>2014</td>\n",
       "      <td>Europe</td>\n",
       "      <td>False</td>\n",
       "    </tr>\n",
       "    <tr>\n",
       "      <th>10</th>\n",
       "      <td>Germany</td>\n",
       "      <td>85000000</td>\n",
       "      <td>2014</td>\n",
       "      <td>Europe</td>\n",
       "      <td>False</td>\n",
       "    </tr>\n",
       "  </tbody>\n",
       "</table>\n",
       "</div>"
      ],
      "text/plain": [
       "                            nation  population  year   region  \\\n",
       "2   Cook Islands (NZ Protectorate)       20000  2000  Oceania   \n",
       "3                  Solomon Islands      447000  2000  Oceania   \n",
       "5                        Australia           0  2014  Oceania   \n",
       "6   Cook Islands (NZ Protectorate)       10900  2014  Oceania   \n",
       "7                  Solomon Islands      549598  2014  Oceania   \n",
       "8                          Germany    85000000  2014   Europe   \n",
       "10                         Germany    85000000  2014   Europe   \n",
       "\n",
       "   risingSeaLevelRisk  \n",
       "2                True  \n",
       "3                True  \n",
       "5               False  \n",
       "6                True  \n",
       "7                True  \n",
       "8               False  \n",
       "10              False  "
      ]
     },
     "execution_count": 59,
     "metadata": {},
     "output_type": "execute_result"
    }
   ],
   "source": [
    "data.ix[10] = [\"Germany\", 85000000, 2014, 'Europe', False]\n",
    "data"
   ]
  },
  {
   "cell_type": "markdown",
   "metadata": {},
   "source": [
    "**Exercise**: Write code that inserts a record for France (population 66m)."
   ]
  },
  {
   "cell_type": "code",
   "execution_count": 60,
   "metadata": {
    "collapsed": false
   },
   "outputs": [
    {
     "data": {
      "text/html": [
       "<div>\n",
       "<table border=\"1\" class=\"dataframe\">\n",
       "  <thead>\n",
       "    <tr style=\"text-align: right;\">\n",
       "      <th></th>\n",
       "      <th>nation</th>\n",
       "      <th>population</th>\n",
       "      <th>year</th>\n",
       "      <th>region</th>\n",
       "      <th>risingSeaLevelRisk</th>\n",
       "    </tr>\n",
       "  </thead>\n",
       "  <tbody>\n",
       "    <tr>\n",
       "      <th>2</th>\n",
       "      <td>Cook Islands (NZ Protectorate)</td>\n",
       "      <td>20000</td>\n",
       "      <td>2000</td>\n",
       "      <td>Oceania</td>\n",
       "      <td>True</td>\n",
       "    </tr>\n",
       "    <tr>\n",
       "      <th>3</th>\n",
       "      <td>Solomon Islands</td>\n",
       "      <td>447000</td>\n",
       "      <td>2000</td>\n",
       "      <td>Oceania</td>\n",
       "      <td>True</td>\n",
       "    </tr>\n",
       "    <tr>\n",
       "      <th>5</th>\n",
       "      <td>Australia</td>\n",
       "      <td>0</td>\n",
       "      <td>2014</td>\n",
       "      <td>Oceania</td>\n",
       "      <td>False</td>\n",
       "    </tr>\n",
       "    <tr>\n",
       "      <th>6</th>\n",
       "      <td>Cook Islands (NZ Protectorate)</td>\n",
       "      <td>10900</td>\n",
       "      <td>2014</td>\n",
       "      <td>Oceania</td>\n",
       "      <td>True</td>\n",
       "    </tr>\n",
       "    <tr>\n",
       "      <th>7</th>\n",
       "      <td>Solomon Islands</td>\n",
       "      <td>549598</td>\n",
       "      <td>2014</td>\n",
       "      <td>Oceania</td>\n",
       "      <td>True</td>\n",
       "    </tr>\n",
       "    <tr>\n",
       "      <th>8</th>\n",
       "      <td>Germany</td>\n",
       "      <td>85000000</td>\n",
       "      <td>2014</td>\n",
       "      <td>Europe</td>\n",
       "      <td>False</td>\n",
       "    </tr>\n",
       "    <tr>\n",
       "      <th>10</th>\n",
       "      <td>Germany</td>\n",
       "      <td>85000000</td>\n",
       "      <td>2014</td>\n",
       "      <td>Europe</td>\n",
       "      <td>False</td>\n",
       "    </tr>\n",
       "    <tr>\n",
       "      <th>9</th>\n",
       "      <td>France</td>\n",
       "      <td>66000000</td>\n",
       "      <td>2014</td>\n",
       "      <td>Europe</td>\n",
       "      <td>False</td>\n",
       "    </tr>\n",
       "  </tbody>\n",
       "</table>\n",
       "</div>"
      ],
      "text/plain": [
       "                            nation  population  year   region  \\\n",
       "2   Cook Islands (NZ Protectorate)       20000  2000  Oceania   \n",
       "3                  Solomon Islands      447000  2000  Oceania   \n",
       "5                        Australia           0  2014  Oceania   \n",
       "6   Cook Islands (NZ Protectorate)       10900  2014  Oceania   \n",
       "7                  Solomon Islands      549598  2014  Oceania   \n",
       "8                          Germany    85000000  2014   Europe   \n",
       "10                         Germany    85000000  2014   Europe   \n",
       "9                           France    66000000  2014   Europe   \n",
       "\n",
       "   risingSeaLevelRisk  \n",
       "2                True  \n",
       "3                True  \n",
       "5               False  \n",
       "6                True  \n",
       "7                True  \n",
       "8               False  \n",
       "10              False  \n",
       "9               False  "
      ]
     },
     "execution_count": 60,
     "metadata": {},
     "output_type": "execute_result"
    }
   ],
   "source": [
    "data.ix[9] = [\"France\", 66000000, 2014, 'Europe', False]\n",
    "data"
   ]
  },
  {
   "cell_type": "markdown",
   "metadata": {},
   "source": [
    "# Data Cleaning - Practical Example"
   ]
  },
  {
   "cell_type": "markdown",
   "metadata": {},
   "source": [
    "Go to http://inflationdata.com/Inflation/Inflation_Rate/Historical_Oil_Prices_Table.asp \n",
    "\n",
    "Highlight and copy the data in the table found on this web site, from the column name 'Year', down to the end of the last record.\n",
    "\n",
    "One of the amazing features that Pandas has built in, is that we can directly import this into a data frame."
   ]
  },
  {
   "cell_type": "code",
   "execution_count": 61,
   "metadata": {
    "collapsed": false
   },
   "outputs": [
    {
     "data": {
      "text/html": [
       "<div>\n",
       "<table border=\"1\" class=\"dataframe\">\n",
       "  <thead>\n",
       "    <tr style=\"text-align: right;\">\n",
       "      <th></th>\n",
       "      <th>occp_new[total]</th>\n",
       "    </tr>\n",
       "  </thead>\n",
       "  <tbody>\n",
       "  </tbody>\n",
       "</table>\n",
       "</div>"
      ],
      "text/plain": [
       "Empty DataFrame\n",
       "Columns: [occp_new[total]]\n",
       "Index: []"
      ]
     },
     "execution_count": 61,
     "metadata": {},
     "output_type": "execute_result"
    }
   ],
   "source": [
    "oil_price = pd.read_clipboard()\n",
    "oil_price"
   ]
  },
  {
   "cell_type": "markdown",
   "metadata": {},
   "source": [
    "In order to fully appreciate the trends, we need to plot this data. plt.plot() allows us to easily do this. It requires that we pass into this method numerical values for the x-axis, separated by the comma and followed by numerical values for the y-axis. \n",
    "\n",
    "However, this is what happens when we try this."
   ]
  },
  {
   "cell_type": "code",
   "execution_count": 62,
   "metadata": {
    "collapsed": false
   },
   "outputs": [
    {
     "data": {
      "text/plain": [
       "Index([u'occp_new[total]'], dtype='object')"
      ]
     },
     "execution_count": 62,
     "metadata": {},
     "output_type": "execute_result"
    }
   ],
   "source": [
    "oil_price.columns"
   ]
  },
  {
   "cell_type": "code",
   "execution_count": 63,
   "metadata": {
    "collapsed": false
   },
   "outputs": [
    {
     "ename": "KeyError",
     "evalue": "'Year '",
     "output_type": "error",
     "traceback": [
      "\u001b[1;31m---------------------------------------------------------------------------\u001b[0m",
      "\u001b[1;31mKeyError\u001b[0m                                  Traceback (most recent call last)",
      "\u001b[1;32m<ipython-input-63-f61ba3378c31>\u001b[0m in \u001b[0;36m<module>\u001b[1;34m()\u001b[0m\n\u001b[1;32m----> 1\u001b[1;33m \u001b[0mplt\u001b[0m\u001b[1;33m.\u001b[0m\u001b[0mplot\u001b[0m\u001b[1;33m(\u001b[0m\u001b[0moil_price\u001b[0m\u001b[1;33m[\u001b[0m\u001b[1;34m'Year '\u001b[0m\u001b[1;33m]\u001b[0m\u001b[1;33m,\u001b[0m \u001b[0moil_price\u001b[0m\u001b[1;33m[\u001b[0m\u001b[1;34m'Inflation Adjusted Price'\u001b[0m\u001b[1;33m]\u001b[0m\u001b[1;33m)\u001b[0m\u001b[1;33m\u001b[0m\u001b[0m\n\u001b[0m",
      "\u001b[1;32mD:\\WinPython-64bit-2.7.10.3\\python-2.7.10.amd64\\lib\\site-packages\\pandas\\core\\frame.pyc\u001b[0m in \u001b[0;36m__getitem__\u001b[1;34m(self, key)\u001b[0m\n\u001b[0;32m   1912\u001b[0m             \u001b[1;32mreturn\u001b[0m \u001b[0mself\u001b[0m\u001b[1;33m.\u001b[0m\u001b[0m_getitem_multilevel\u001b[0m\u001b[1;33m(\u001b[0m\u001b[0mkey\u001b[0m\u001b[1;33m)\u001b[0m\u001b[1;33m\u001b[0m\u001b[0m\n\u001b[0;32m   1913\u001b[0m         \u001b[1;32melse\u001b[0m\u001b[1;33m:\u001b[0m\u001b[1;33m\u001b[0m\u001b[0m\n\u001b[1;32m-> 1914\u001b[1;33m             \u001b[1;32mreturn\u001b[0m \u001b[0mself\u001b[0m\u001b[1;33m.\u001b[0m\u001b[0m_getitem_column\u001b[0m\u001b[1;33m(\u001b[0m\u001b[0mkey\u001b[0m\u001b[1;33m)\u001b[0m\u001b[1;33m\u001b[0m\u001b[0m\n\u001b[0m\u001b[0;32m   1915\u001b[0m \u001b[1;33m\u001b[0m\u001b[0m\n\u001b[0;32m   1916\u001b[0m     \u001b[1;32mdef\u001b[0m \u001b[0m_getitem_column\u001b[0m\u001b[1;33m(\u001b[0m\u001b[0mself\u001b[0m\u001b[1;33m,\u001b[0m \u001b[0mkey\u001b[0m\u001b[1;33m)\u001b[0m\u001b[1;33m:\u001b[0m\u001b[1;33m\u001b[0m\u001b[0m\n",
      "\u001b[1;32mD:\\WinPython-64bit-2.7.10.3\\python-2.7.10.amd64\\lib\\site-packages\\pandas\\core\\frame.pyc\u001b[0m in \u001b[0;36m_getitem_column\u001b[1;34m(self, key)\u001b[0m\n\u001b[0;32m   1919\u001b[0m         \u001b[1;31m# get column\u001b[0m\u001b[1;33m\u001b[0m\u001b[1;33m\u001b[0m\u001b[0m\n\u001b[0;32m   1920\u001b[0m         \u001b[1;32mif\u001b[0m \u001b[0mself\u001b[0m\u001b[1;33m.\u001b[0m\u001b[0mcolumns\u001b[0m\u001b[1;33m.\u001b[0m\u001b[0mis_unique\u001b[0m\u001b[1;33m:\u001b[0m\u001b[1;33m\u001b[0m\u001b[0m\n\u001b[1;32m-> 1921\u001b[1;33m             \u001b[1;32mreturn\u001b[0m \u001b[0mself\u001b[0m\u001b[1;33m.\u001b[0m\u001b[0m_get_item_cache\u001b[0m\u001b[1;33m(\u001b[0m\u001b[0mkey\u001b[0m\u001b[1;33m)\u001b[0m\u001b[1;33m\u001b[0m\u001b[0m\n\u001b[0m\u001b[0;32m   1922\u001b[0m \u001b[1;33m\u001b[0m\u001b[0m\n\u001b[0;32m   1923\u001b[0m         \u001b[1;31m# duplicate columns & possible reduce dimensionaility\u001b[0m\u001b[1;33m\u001b[0m\u001b[1;33m\u001b[0m\u001b[0m\n",
      "\u001b[1;32mD:\\WinPython-64bit-2.7.10.3\\python-2.7.10.amd64\\lib\\site-packages\\pandas\\core\\generic.pyc\u001b[0m in \u001b[0;36m_get_item_cache\u001b[1;34m(self, item)\u001b[0m\n\u001b[0;32m   1088\u001b[0m         \u001b[0mres\u001b[0m \u001b[1;33m=\u001b[0m \u001b[0mcache\u001b[0m\u001b[1;33m.\u001b[0m\u001b[0mget\u001b[0m\u001b[1;33m(\u001b[0m\u001b[0mitem\u001b[0m\u001b[1;33m)\u001b[0m\u001b[1;33m\u001b[0m\u001b[0m\n\u001b[0;32m   1089\u001b[0m         \u001b[1;32mif\u001b[0m \u001b[0mres\u001b[0m \u001b[1;32mis\u001b[0m \u001b[0mNone\u001b[0m\u001b[1;33m:\u001b[0m\u001b[1;33m\u001b[0m\u001b[0m\n\u001b[1;32m-> 1090\u001b[1;33m             \u001b[0mvalues\u001b[0m \u001b[1;33m=\u001b[0m \u001b[0mself\u001b[0m\u001b[1;33m.\u001b[0m\u001b[0m_data\u001b[0m\u001b[1;33m.\u001b[0m\u001b[0mget\u001b[0m\u001b[1;33m(\u001b[0m\u001b[0mitem\u001b[0m\u001b[1;33m)\u001b[0m\u001b[1;33m\u001b[0m\u001b[0m\n\u001b[0m\u001b[0;32m   1091\u001b[0m             \u001b[0mres\u001b[0m \u001b[1;33m=\u001b[0m \u001b[0mself\u001b[0m\u001b[1;33m.\u001b[0m\u001b[0m_box_item_values\u001b[0m\u001b[1;33m(\u001b[0m\u001b[0mitem\u001b[0m\u001b[1;33m,\u001b[0m \u001b[0mvalues\u001b[0m\u001b[1;33m)\u001b[0m\u001b[1;33m\u001b[0m\u001b[0m\n\u001b[0;32m   1092\u001b[0m             \u001b[0mcache\u001b[0m\u001b[1;33m[\u001b[0m\u001b[0mitem\u001b[0m\u001b[1;33m]\u001b[0m \u001b[1;33m=\u001b[0m \u001b[0mres\u001b[0m\u001b[1;33m\u001b[0m\u001b[0m\n",
      "\u001b[1;32mD:\\WinPython-64bit-2.7.10.3\\python-2.7.10.amd64\\lib\\site-packages\\pandas\\core\\internals.pyc\u001b[0m in \u001b[0;36mget\u001b[1;34m(self, item, fastpath)\u001b[0m\n\u001b[0;32m   3100\u001b[0m \u001b[1;33m\u001b[0m\u001b[0m\n\u001b[0;32m   3101\u001b[0m             \u001b[1;32mif\u001b[0m \u001b[1;32mnot\u001b[0m \u001b[0misnull\u001b[0m\u001b[1;33m(\u001b[0m\u001b[0mitem\u001b[0m\u001b[1;33m)\u001b[0m\u001b[1;33m:\u001b[0m\u001b[1;33m\u001b[0m\u001b[0m\n\u001b[1;32m-> 3102\u001b[1;33m                 \u001b[0mloc\u001b[0m \u001b[1;33m=\u001b[0m \u001b[0mself\u001b[0m\u001b[1;33m.\u001b[0m\u001b[0mitems\u001b[0m\u001b[1;33m.\u001b[0m\u001b[0mget_loc\u001b[0m\u001b[1;33m(\u001b[0m\u001b[0mitem\u001b[0m\u001b[1;33m)\u001b[0m\u001b[1;33m\u001b[0m\u001b[0m\n\u001b[0m\u001b[0;32m   3103\u001b[0m             \u001b[1;32melse\u001b[0m\u001b[1;33m:\u001b[0m\u001b[1;33m\u001b[0m\u001b[0m\n\u001b[0;32m   3104\u001b[0m                 \u001b[0mindexer\u001b[0m \u001b[1;33m=\u001b[0m \u001b[0mnp\u001b[0m\u001b[1;33m.\u001b[0m\u001b[0marange\u001b[0m\u001b[1;33m(\u001b[0m\u001b[0mlen\u001b[0m\u001b[1;33m(\u001b[0m\u001b[0mself\u001b[0m\u001b[1;33m.\u001b[0m\u001b[0mitems\u001b[0m\u001b[1;33m)\u001b[0m\u001b[1;33m)\u001b[0m\u001b[1;33m[\u001b[0m\u001b[0misnull\u001b[0m\u001b[1;33m(\u001b[0m\u001b[0mself\u001b[0m\u001b[1;33m.\u001b[0m\u001b[0mitems\u001b[0m\u001b[1;33m)\u001b[0m\u001b[1;33m]\u001b[0m\u001b[1;33m\u001b[0m\u001b[0m\n",
      "\u001b[1;32mD:\\WinPython-64bit-2.7.10.3\\python-2.7.10.amd64\\lib\\site-packages\\pandas\\core\\index.pyc\u001b[0m in \u001b[0;36mget_loc\u001b[1;34m(self, key, method, tolerance)\u001b[0m\n\u001b[0;32m   1690\u001b[0m                 raise ValueError('tolerance argument only valid if using pad, '\n\u001b[0;32m   1691\u001b[0m                                  'backfill or nearest lookups')\n\u001b[1;32m-> 1692\u001b[1;33m             \u001b[1;32mreturn\u001b[0m \u001b[0mself\u001b[0m\u001b[1;33m.\u001b[0m\u001b[0m_engine\u001b[0m\u001b[1;33m.\u001b[0m\u001b[0mget_loc\u001b[0m\u001b[1;33m(\u001b[0m\u001b[0m_values_from_object\u001b[0m\u001b[1;33m(\u001b[0m\u001b[0mkey\u001b[0m\u001b[1;33m)\u001b[0m\u001b[1;33m)\u001b[0m\u001b[1;33m\u001b[0m\u001b[0m\n\u001b[0m\u001b[0;32m   1693\u001b[0m \u001b[1;33m\u001b[0m\u001b[0m\n\u001b[0;32m   1694\u001b[0m         indexer = self.get_indexer([key], method=method,\n",
      "\u001b[1;32mpandas\\index.pyx\u001b[0m in \u001b[0;36mpandas.index.IndexEngine.get_loc (pandas\\index.c:3979)\u001b[1;34m()\u001b[0m\n",
      "\u001b[1;32mpandas\\index.pyx\u001b[0m in \u001b[0;36mpandas.index.IndexEngine.get_loc (pandas\\index.c:3843)\u001b[1;34m()\u001b[0m\n",
      "\u001b[1;32mpandas\\hashtable.pyx\u001b[0m in \u001b[0;36mpandas.hashtable.PyObjectHashTable.get_item (pandas\\hashtable.c:12265)\u001b[1;34m()\u001b[0m\n",
      "\u001b[1;32mpandas\\hashtable.pyx\u001b[0m in \u001b[0;36mpandas.hashtable.PyObjectHashTable.get_item (pandas\\hashtable.c:12216)\u001b[1;34m()\u001b[0m\n",
      "\u001b[1;31mKeyError\u001b[0m: 'Year '"
     ]
    }
   ],
   "source": [
    "plt.plot(oil_price['Year '], oil_price['Inflation Adjusted Price'])"
   ]
  },
  {
   "cell_type": "markdown",
   "metadata": {},
   "source": [
    " **Exercise**: Write code that finds out what data type the two columns are that we are trying to plot."
   ]
  },
  {
   "cell_type": "code",
   "execution_count": null,
   "metadata": {
    "collapsed": false
   },
   "outputs": [],
   "source": [
    "oil_price['Year']"
   ]
  },
  {
   "cell_type": "code",
   "execution_count": null,
   "metadata": {
    "collapsed": false
   },
   "outputs": [],
   "source": [
    "oil_price['Inflation Adjusted Price']"
   ]
  },
  {
   "cell_type": "markdown",
   "metadata": {},
   "source": [
    "Due to the presence of the '$' symbol. pandas has interpreted this column as a string. \n",
    "\n",
    " **Exercise**: Write code that removes the '$' symbol from all he entries and converts the column into a float. "
   ]
  },
  {
   "cell_type": "code",
   "execution_count": null,
   "metadata": {
    "collapsed": false
   },
   "outputs": [],
   "source": []
  },
  {
   "cell_type": "code",
   "execution_count": null,
   "metadata": {
    "collapsed": false
   },
   "outputs": [],
   "source": []
  },
  {
   "cell_type": "markdown",
   "metadata": {},
   "source": [
    "\n",
    " **Exercise**:Write code that generates two plots. One for the Inflation Adjusted Price of oil per year and the other for the Nominal Price of oil per year"
   ]
  },
  {
   "cell_type": "code",
   "execution_count": null,
   "metadata": {
    "collapsed": false
   },
   "outputs": [],
   "source": []
  },
  {
   "cell_type": "code",
   "execution_count": null,
   "metadata": {
    "collapsed": false
   },
   "outputs": [],
   "source": []
  },
  {
   "cell_type": "markdown",
   "metadata": {
    "collapsed": false
   },
   "source": [
    "### Exercise: "
   ]
  },
  {
   "cell_type": "markdown",
   "metadata": {},
   "source": [
    "Once you have plotted the data, save the dataframe as a .csv file called 'oil_prices.csv'."
   ]
  },
  {
   "cell_type": "code",
   "execution_count": null,
   "metadata": {
    "collapsed": false
   },
   "outputs": [],
   "source": []
  },
  {
   "cell_type": "code",
   "execution_count": null,
   "metadata": {
    "collapsed": false
   },
   "outputs": [],
   "source": [
    "%%javascript\n",
    "require(['base/js/utils'],\n",
    "function(utils) {\n",
    "   utils.load_extensions('calico-spell-check', 'calico-document-tools', 'calico-cell-tools');\n",
    "});"
   ]
  },
  {
   "cell_type": "code",
   "execution_count": null,
   "metadata": {
    "collapsed": true
   },
   "outputs": [],
   "source": []
  }
 ],
 "metadata": {
  "kernelspec": {
   "display_name": "Python 2",
   "language": "python",
   "name": "python2"
  },
  "language_info": {
   "codemirror_mode": {
    "name": "ipython",
    "version": 2
   },
   "file_extension": ".py",
   "mimetype": "text/x-python",
   "name": "python",
   "nbconvert_exporter": "python",
   "pygments_lexer": "ipython2",
   "version": "2.7.10"
  }
 },
 "nbformat": 4,
 "nbformat_minor": 0
}
